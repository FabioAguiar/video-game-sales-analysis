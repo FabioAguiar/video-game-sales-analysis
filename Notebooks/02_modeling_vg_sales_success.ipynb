{
 "cells": [
  {
   "cell_type": "markdown",
   "id": "7455363c-c12c-46fe-b1fb-841774dcfd87",
   "metadata": {},
   "source": [
    "# Análise de Vendas em Cafeterias ☕📊\n",
    "\n",
    "Neste projeto, utilizarei um dataset público com dados de transações realizadas em uma rede de cafeterias. O objetivo é explorar e entender os padrões de consumo de clientes, identificar os produtos mais vendidos, analisar o desempenho das lojas por localização e levantar insights que possam apoiar \n",
    "\n",
    "Este notebook será desenvolvido para as etapas:\n",
    "1. Preparação para Modelagem\n",
    "2. Divisão em Conjuntos de Treino e Teste\n",
    "3. Treinamento e avaliação de modelos de classificação"
   ]
  },
  {
   "cell_type": "code",
   "execution_count": 1,
   "id": "aae6bdbf-5ca1-4968-bef2-ab52d14c3ea1",
   "metadata": {},
   "outputs": [],
   "source": [
    "import pandas as pd\n",
    "import matplotlib.pyplot as plt\n",
    "import seaborn as sns\n",
    "import joblib\n",
    "\n",
    "from sklearn.metrics import classification_report, confusion_matrix\n",
    "from sklearn.compose import ColumnTransformer\n",
    "from sklearn.preprocessing import OneHotEncoder, StandardScaler\n",
    "from sklearn.model_selection import train_test_split\n",
    "from sklearn.pipeline import Pipeline\n",
    "#Modelos ML\n",
    "from sklearn.dummy import DummyClassifier\n",
    "from sklearn.neighbors import KNeighborsClassifier\n",
    "from sklearn.ensemble import RandomForestClassifier\n",
    "from sklearn.linear_model import LogisticRegression\n",
    "from sklearn.tree import DecisionTreeClassifier\n",
    "from sklearn.naive_bayes import GaussianNB\n",
    "from lightgbm import LGBMClassifier\n",
    "\n",
    "\n",
    "\n",
    "df_model = pd.read_csv(\"C:/data/Video Game Sales/video_game_sales_com_target.csv\")"
   ]
  },
  {
   "cell_type": "code",
   "execution_count": 2,
   "id": "65948af6-96e3-4a90-bf2a-39b77fff7414",
   "metadata": {},
   "outputs": [
    {
     "data": {
      "text/html": [
       "<div>\n",
       "<style scoped>\n",
       "    .dataframe tbody tr th:only-of-type {\n",
       "        vertical-align: middle;\n",
       "    }\n",
       "\n",
       "    .dataframe tbody tr th {\n",
       "        vertical-align: top;\n",
       "    }\n",
       "\n",
       "    .dataframe thead th {\n",
       "        text-align: right;\n",
       "    }\n",
       "</style>\n",
       "<table border=\"1\" class=\"dataframe\">\n",
       "  <thead>\n",
       "    <tr style=\"text-align: right;\">\n",
       "      <th></th>\n",
       "      <th>title</th>\n",
       "      <th>console</th>\n",
       "      <th>console_fabricator</th>\n",
       "      <th>genre</th>\n",
       "      <th>publisher</th>\n",
       "      <th>developer</th>\n",
       "      <th>release_date</th>\n",
       "      <th>ano</th>\n",
       "      <th>total_sales</th>\n",
       "      <th>na_sales</th>\n",
       "      <th>jp_sales</th>\n",
       "      <th>pal_sales</th>\n",
       "      <th>other_sales</th>\n",
       "      <th>Sucesso</th>\n",
       "    </tr>\n",
       "  </thead>\n",
       "  <tbody>\n",
       "    <tr>\n",
       "      <th>0</th>\n",
       "      <td>Grand Theft Auto V</td>\n",
       "      <td>PS3</td>\n",
       "      <td>Sony</td>\n",
       "      <td>Action</td>\n",
       "      <td>Rockstar Games</td>\n",
       "      <td>Rockstar North</td>\n",
       "      <td>2013-09-17</td>\n",
       "      <td>2013</td>\n",
       "      <td>20.33</td>\n",
       "      <td>6.37</td>\n",
       "      <td>0.99</td>\n",
       "      <td>9.85</td>\n",
       "      <td>3.12</td>\n",
       "      <td>1</td>\n",
       "    </tr>\n",
       "    <tr>\n",
       "      <th>1</th>\n",
       "      <td>Grand Theft Auto V</td>\n",
       "      <td>PS4</td>\n",
       "      <td>Sony</td>\n",
       "      <td>Action</td>\n",
       "      <td>Rockstar Games</td>\n",
       "      <td>Rockstar North</td>\n",
       "      <td>2014-11-18</td>\n",
       "      <td>2014</td>\n",
       "      <td>19.39</td>\n",
       "      <td>6.06</td>\n",
       "      <td>0.60</td>\n",
       "      <td>9.71</td>\n",
       "      <td>3.02</td>\n",
       "      <td>1</td>\n",
       "    </tr>\n",
       "    <tr>\n",
       "      <th>2</th>\n",
       "      <td>Grand Theft Auto: Vice City</td>\n",
       "      <td>PS2</td>\n",
       "      <td>Sony</td>\n",
       "      <td>Action</td>\n",
       "      <td>Rockstar Games</td>\n",
       "      <td>Rockstar North</td>\n",
       "      <td>2002-10-28</td>\n",
       "      <td>2002</td>\n",
       "      <td>16.15</td>\n",
       "      <td>8.41</td>\n",
       "      <td>0.47</td>\n",
       "      <td>5.49</td>\n",
       "      <td>1.78</td>\n",
       "      <td>1</td>\n",
       "    </tr>\n",
       "    <tr>\n",
       "      <th>3</th>\n",
       "      <td>Grand Theft Auto V</td>\n",
       "      <td>X360</td>\n",
       "      <td>Microsoft</td>\n",
       "      <td>Action</td>\n",
       "      <td>Rockstar Games</td>\n",
       "      <td>Rockstar North</td>\n",
       "      <td>2013-09-17</td>\n",
       "      <td>2013</td>\n",
       "      <td>15.87</td>\n",
       "      <td>9.06</td>\n",
       "      <td>0.06</td>\n",
       "      <td>5.33</td>\n",
       "      <td>1.42</td>\n",
       "      <td>1</td>\n",
       "    </tr>\n",
       "    <tr>\n",
       "      <th>4</th>\n",
       "      <td>Call of Duty: Black Ops 3</td>\n",
       "      <td>PS4</td>\n",
       "      <td>Sony</td>\n",
       "      <td>Shooter</td>\n",
       "      <td>Activision</td>\n",
       "      <td>Treyarch</td>\n",
       "      <td>2015-11-06</td>\n",
       "      <td>2015</td>\n",
       "      <td>15.08</td>\n",
       "      <td>6.18</td>\n",
       "      <td>0.41</td>\n",
       "      <td>6.05</td>\n",
       "      <td>2.44</td>\n",
       "      <td>1</td>\n",
       "    </tr>\n",
       "  </tbody>\n",
       "</table>\n",
       "</div>"
      ],
      "text/plain": [
       "                         title console console_fabricator    genre  \\\n",
       "0           Grand Theft Auto V     PS3               Sony   Action   \n",
       "1           Grand Theft Auto V     PS4               Sony   Action   \n",
       "2  Grand Theft Auto: Vice City     PS2               Sony   Action   \n",
       "3           Grand Theft Auto V    X360          Microsoft   Action   \n",
       "4    Call of Duty: Black Ops 3     PS4               Sony  Shooter   \n",
       "\n",
       "        publisher       developer release_date   ano  total_sales  na_sales  \\\n",
       "0  Rockstar Games  Rockstar North   2013-09-17  2013        20.33      6.37   \n",
       "1  Rockstar Games  Rockstar North   2014-11-18  2014        19.39      6.06   \n",
       "2  Rockstar Games  Rockstar North   2002-10-28  2002        16.15      8.41   \n",
       "3  Rockstar Games  Rockstar North   2013-09-17  2013        15.87      9.06   \n",
       "4      Activision        Treyarch   2015-11-06  2015        15.08      6.18   \n",
       "\n",
       "   jp_sales  pal_sales  other_sales  Sucesso  \n",
       "0      0.99       9.85         3.12        1  \n",
       "1      0.60       9.71         3.02        1  \n",
       "2      0.47       5.49         1.78        1  \n",
       "3      0.06       5.33         1.42        1  \n",
       "4      0.41       6.05         2.44        1  "
      ]
     },
     "execution_count": 2,
     "metadata": {},
     "output_type": "execute_result"
    }
   ],
   "source": [
    "df_model.head()"
   ]
  },
  {
   "cell_type": "markdown",
   "id": "67eccc58-aaff-442f-817a-dd39158f83e2",
   "metadata": {},
   "source": [
    "### Preparação para Modelagem\n",
    "\n",
    "Nesta etapa, preparo os dados para os modelos de Machine Learning:\n",
    "- Separação das variáveis independentes (features) e da variável alvo (target)\n",
    "- Codificação das variáveis categóricas com One-Hot Encoding\n",
    "- Escalonamento de variáveis numéricas"
   ]
  },
  {
   "cell_type": "code",
   "execution_count": 3,
   "id": "f4e6bf66-27a7-45e2-9ae9-ba8c0f5e11a0",
   "metadata": {},
   "outputs": [],
   "source": [
    "# Separando X e y\n",
    "x = df_model.drop(columns=['Sucesso'])\n",
    "y = df_model['Sucesso']"
   ]
  },
  {
   "cell_type": "code",
   "execution_count": 4,
   "id": "42805646-44e7-4702-8130-c57259e19a32",
   "metadata": {},
   "outputs": [],
   "source": [
    "# Identificando colunas categóricas e numéricas\n",
    "cat_cols = x.select_dtypes(include='object').columns\n",
    "num_cols = x.select_dtypes(include='number').columns"
   ]
  },
  {
   "cell_type": "code",
   "execution_count": 5,
   "id": "e8f45d29-1e2d-4aef-8d89-3dc0c987c9da",
   "metadata": {},
   "outputs": [
    {
     "data": {
      "text/plain": [
       "Index(['title', 'console', 'console_fabricator', 'genre', 'publisher',\n",
       "       'developer', 'release_date'],\n",
       "      dtype='object')"
      ]
     },
     "execution_count": 5,
     "metadata": {},
     "output_type": "execute_result"
    }
   ],
   "source": [
    "cat_cols"
   ]
  },
  {
   "cell_type": "code",
   "execution_count": 6,
   "id": "6146db79-9ab9-4534-8ca5-6ce782012440",
   "metadata": {},
   "outputs": [
    {
     "data": {
      "text/plain": [
       "Index(['ano', 'total_sales', 'na_sales', 'jp_sales', 'pal_sales',\n",
       "       'other_sales'],\n",
       "      dtype='object')"
      ]
     },
     "execution_count": 6,
     "metadata": {},
     "output_type": "execute_result"
    }
   ],
   "source": [
    "num_cols"
   ]
  },
  {
   "cell_type": "markdown",
   "id": "ab34ed3a-0a17-4e01-9101-0fa13218305f",
   "metadata": {},
   "source": [
    "#### Definindo o pipeline de pré-processamento para demonstração da transformação das novas colunas"
   ]
  },
  {
   "cell_type": "code",
   "execution_count": 7,
   "id": "9021cac7-9510-42f2-a9c7-98420aca6d32",
   "metadata": {},
   "outputs": [],
   "source": [
    "# Define o OneHotEncoder com saída esparsa\n",
    "onehot_sparse = OneHotEncoder(handle_unknown='ignore', sparse_output=True)\n",
    "\n",
    "# Define o OneHotEncoder com saída densa\n",
    "onehot_dense = OneHotEncoder(handle_unknown='ignore', sparse_output=False)\n",
    "\n",
    "preprocessor_data_sparse = ColumnTransformer(transformers=[\n",
    "    ('cat', onehot_sparse, cat_cols),\n",
    "    ('num', StandardScaler(), num_cols)\n",
    "])\n",
    "\n",
    "preprocessor_data_dense = ColumnTransformer(transformers=[\n",
    "    ('cat', onehot_dense, cat_cols),\n",
    "    ('num', StandardScaler(), num_cols)\n",
    "])"
   ]
  },
  {
   "cell_type": "code",
   "execution_count": 8,
   "id": "a66aa233-5dd4-4b34-8a23-819c89782e90",
   "metadata": {},
   "outputs": [
    {
     "name": "stdout",
     "output_type": "stream",
     "text": [
      "Shape antes: (17298, 13)\n",
      "Shape depois do preprocessamento esparso: (17298, 19082)\n",
      "Shape depois do preprocessamento denso: (17298, 19082)\n"
     ]
    }
   ],
   "source": [
    "# Verificando a forma dos dados transformados\n",
    "X_processed_data_sparse = preprocessor_data_sparse.fit_transform(x)\n",
    "X_processed_data_dense = preprocessor_data_dense.fit_transform(x)\n",
    "\n",
    "print(\"Shape antes:\", x.shape)\n",
    "print(\"Shape depois do preprocessamento esparso:\", X_processed_data_sparse.shape)\n",
    "print(\"Shape depois do preprocessamento denso:\", X_processed_data_dense.shape)"
   ]
  },
  {
   "cell_type": "markdown",
   "id": "aa6e8298-4cc4-437e-bf88-5f46c261445f",
   "metadata": {},
   "source": [
    "### Divisão em Conjuntos de Treino e Teste\n",
    "\n",
    "Dividi os dados em treino (70%) e teste (30%), utilizando a estratégia `stratify` para preservar a proporção da variável alvo `Sucesso`, que está desbalanceada.\n"
   ]
  },
  {
   "cell_type": "code",
   "execution_count": 9,
   "id": "45b42ff7-d37e-4c93-8688-44065f94d7ae",
   "metadata": {},
   "outputs": [
    {
     "name": "stdout",
     "output_type": "stream",
     "text": [
      "Tamanho do conjunto de treino: (12108, 13)\n",
      "Tamanho do conjunto de teste: (5190, 13)\n"
     ]
    }
   ],
   "source": [
    "# Dividindo os dados\n",
    "X_train, X_test, y_train, y_test = train_test_split(\n",
    "    x, y,\n",
    "    test_size=0.3,\n",
    "    random_state=42,\n",
    "    stratify=y  # para manter a proporção de classes\n",
    ")\n",
    "\n",
    "print(\"Tamanho do conjunto de treino:\", X_train.shape)\n",
    "print(\"Tamanho do conjunto de teste:\", X_test.shape)"
   ]
  },
  {
   "cell_type": "code",
   "execution_count": 10,
   "id": "40312a8e-2161-4a66-a6a3-e19bfe251d37",
   "metadata": {},
   "outputs": [
    {
     "name": "stdout",
     "output_type": "stream",
     "text": [
      "Tamanho de y_train: (12108,)\n",
      "Tamanho de y_test: (5190,)\n"
     ]
    }
   ],
   "source": [
    "print(\"Tamanho de y_train:\", y_train.shape)\n",
    "print(\"Tamanho de y_test:\", y_test.shape)"
   ]
  },
  {
   "cell_type": "markdown",
   "id": "3c85e2a3-3456-4596-b153-d6b458af1556",
   "metadata": {},
   "source": [
    "### Avaliação de cada modelo"
   ]
  },
  {
   "cell_type": "code",
   "execution_count": 11,
   "id": "fd26d00a-8178-4645-8c25-77d4b0f5f31c",
   "metadata": {},
   "outputs": [
    {
     "name": "stdout",
     "output_type": "stream",
     "text": [
      "\n",
      "### Modelo: Dummy ###\n",
      "              precision    recall  f1-score   support\n",
      "\n",
      "           0     0.9154    1.0000    0.9558      4751\n",
      "           1     0.0000    0.0000    0.0000       439\n",
      "\n",
      "    accuracy                         0.9154      5190\n",
      "   macro avg     0.4577    0.5000    0.4779      5190\n",
      "weighted avg     0.8380    0.9154    0.8750      5190\n",
      "\n"
     ]
    },
    {
     "name": "stderr",
     "output_type": "stream",
     "text": [
      "C:\\Users\\fabio\\anaconda3\\Lib\\site-packages\\sklearn\\metrics\\_classification.py:1531: UndefinedMetricWarning: Precision is ill-defined and being set to 0.0 in labels with no predicted samples. Use `zero_division` parameter to control this behavior.\n",
      "  _warn_prf(average, modifier, f\"{metric.capitalize()} is\", len(result))\n",
      "C:\\Users\\fabio\\anaconda3\\Lib\\site-packages\\sklearn\\metrics\\_classification.py:1531: UndefinedMetricWarning: Precision is ill-defined and being set to 0.0 in labels with no predicted samples. Use `zero_division` parameter to control this behavior.\n",
      "  _warn_prf(average, modifier, f\"{metric.capitalize()} is\", len(result))\n",
      "C:\\Users\\fabio\\anaconda3\\Lib\\site-packages\\sklearn\\metrics\\_classification.py:1531: UndefinedMetricWarning: Precision is ill-defined and being set to 0.0 in labels with no predicted samples. Use `zero_division` parameter to control this behavior.\n",
      "  _warn_prf(average, modifier, f\"{metric.capitalize()} is\", len(result))\n"
     ]
    },
    {
     "data": {
      "image/png": "[encoded data removed]",
      "text/plain": [
       "<Figure size 640x480 with 2 Axes>"
      ]
     },
     "metadata": {},
     "output_type": "display_data"
    },
    {
     "name": "stdout",
     "output_type": "stream",
     "text": [
      "\n",
      "### Modelo: KNN ###\n",
      "              precision    recall  f1-score   support\n",
      "\n",
      "           0     0.9840    0.9979    0.9909      4751\n",
      "           1     0.9731    0.8246    0.8927       439\n",
      "\n",
      "    accuracy                         0.9832      5190\n",
      "   macro avg     0.9786    0.9112    0.9418      5190\n",
      "weighted avg     0.9831    0.9832    0.9826      5190\n",
      "\n"
     ]
    },
    {
     "data": {
      "image/png": "[encoded data removed]",
      "text/plain": [
       "<Figure size 640x480 with 2 Axes>"
      ]
     },
     "metadata": {},
     "output_type": "display_data"
    },
    {
     "name": "stdout",
     "output_type": "stream",
     "text": [
      "\n",
      "### Modelo: Random Forest ###\n",
      "              precision    recall  f1-score   support\n",
      "\n",
      "           0     0.9987    0.9996    0.9992      4751\n",
      "           1     0.9954    0.9863    0.9908       439\n",
      "\n",
      "    accuracy                         0.9985      5190\n",
      "   macro avg     0.9971    0.9930    0.9950      5190\n",
      "weighted avg     0.9985    0.9985    0.9985      5190\n",
      "\n"
     ]
    },
    {
     "data": {
      "image/png": "[encoded data removed]",
      "text/plain": [
       "<Figure size 640x480 with 2 Axes>"
      ]
     },
     "metadata": {},
     "output_type": "display_data"
    },
    {
     "name": "stdout",
     "output_type": "stream",
     "text": [
      "\n",
      "### Modelo: Logistic Regression ###\n",
      "              precision    recall  f1-score   support\n",
      "\n",
      "           0     0.9979    0.9992    0.9985      4751\n",
      "           1     0.9908    0.9772    0.9839       439\n",
      "\n",
      "    accuracy                         0.9973      5190\n",
      "   macro avg     0.9943    0.9882    0.9912      5190\n",
      "weighted avg     0.9973    0.9973    0.9973      5190\n",
      "\n"
     ]
    },
    {
     "data": {
      "image/png": "[encoded data removed]",
      "text/plain": [
       "<Figure size 640x480 with 2 Axes>"
      ]
     },
     "metadata": {},
     "output_type": "display_data"
    }
   ],
   "source": [
    "# Dicionário seletor de modelos\n",
    "seletor = {\n",
    "    'Dummy': '[X]',\n",
    "    'KNN': '[X]',\n",
    "    'Random Forest': '[X]',\n",
    "    'Logistic Regression': '[X]',\n",
    "    'Decision Tree': '[]',\n",
    "    'Naive Bayes': '[]',\n",
    "    'LightGBM': '[]',\n",
    "}\n",
    "\n",
    "# Dicionário dos modelos\n",
    "modelos_disponiveis = {\n",
    "    'Dummy': DummyClassifier(strategy='most_frequent', random_state=42),\n",
    "    'KNN': KNeighborsClassifier(),\n",
    "    'Random Forest': RandomForestClassifier(random_state=42),\n",
    "    'Logistic Regression': LogisticRegression(max_iter=1000, random_state=42),\n",
    "    'Decision Tree': DecisionTreeClassifier(random_state=42),\n",
    "    'Naive Bayes': GaussianNB(),\n",
    "    'LightGBM': LGBMClassifier(random_state=42)\n",
    "}\n",
    "\n",
    "# Filtra os modelos selecionados pelo seletor\n",
    "modelos_selecionados = {\n",
    "    nome: modelo\n",
    "    for nome, modelo in modelos_disponiveis.items()\n",
    "    if seletor.get(nome) == '[X]'\n",
    "}\n",
    "\n",
    "# Dicionário para armazenar os pipelines treinados\n",
    "pipelines_treinados = {}\n",
    "\n",
    "\n",
    "# Avaliação de cada modelo\n",
    "for nome, modelo in modelos_selecionados.items():\n",
    "    print(f'\\n### Modelo: {nome} ###')\n",
    "\n",
    "    # Escolhe o preprocessor adequado\n",
    "    if nome == 'Naive Bayes':\n",
    "        preprocessor = preprocessor_data_dense\n",
    "    else:\n",
    "        preprocessor = preprocessor_data_sparse\n",
    "\n",
    "    # Criação do pipeline\n",
    "    pipeline = Pipeline(steps=[\n",
    "        ('preprocessor', preprocessor),\n",
    "        ('classifier', modelo)\n",
    "    ])\n",
    "\n",
    "    # Treinamento e avaliação\n",
    "    pipeline.fit(X_train, y_train)\n",
    "    y_pred = pipeline.predict(X_test)\n",
    "\n",
    "    # Armazena o pipeline\n",
    "    pipelines_treinados[nome] = pipeline\n",
    "\n",
    "    # Relatório e matriz\n",
    "    print(classification_report(y_test, y_pred, digits=4))\n",
    "    sns.heatmap(confusion_matrix(y_test, y_pred), annot=True, fmt='d', cmap='Blues')\n",
    "    plt.title(f'Matriz de Confusão - {nome}')\n",
    "    plt.xlabel('Predito')\n",
    "    plt.ylabel('Real')\n",
    "    plt.show()\n"
   ]
  },
  {
   "cell_type": "code",
   "execution_count": null,
   "id": "7c88d100-94e6-4ae2-adf8-90a5e5fde9b1",
   "metadata": {},
   "outputs": [],
   "source": []
  },
  {
   "cell_type": "markdown",
   "id": "04387d89-bea7-40f0-9a44-b4b76c7fc44c",
   "metadata": {},
   "source": [
    "### 🎯 Escolha do Modelo\n",
    "\n",
    "Após testar os modelos de classificação — Dummy Classifier, K-Nearest Neighbors (KNN), Random Forest e Regressão Logística — optei por utilizar o **Random Forest** como modelo final.\n",
    "\n",
    "Essa escolha se deu principalmente por dois motivos:\n",
    "\n",
    "1. **Performance geral superior**: o Random Forest apresentou o melhor equilíbrio entre precisão, recall e F1-score para a classe **“Sucesso”**, que é a classe de maior interesse do projeto.\n",
    "2. **Robustez e interpretabilidade**: além de lidar bem com variáveis categóricas e numéricas, o Random Forest permite visualizar a importância de cada feature, o que pode ser útil em análises futuras.\n",
    "\n",
    "---\n",
    "\n",
    "### 📏 Métrica Prioritária\n",
    "\n",
    "Durante a avaliação dos modelos, a **métrica F1-score** para a classe “Sucesso” foi priorizada.\n",
    "\n",
    "O motivo é que esse projeto tem como objetivo prever se um jogo será ou não um sucesso. Como estou lidando com um possível **desequilíbrio entre as classes**, métricas como **acurácia podem ser enganosas** — um modelo que sempre prevê a classe majoritária pode ter alta acurácia, mas baixo desempenho real.\n"
   ]
  },
  {
   "cell_type": "code",
   "execution_count": 12,
   "id": "1574287a-63d2-4231-9c4d-23babaad61ae",
   "metadata": {},
   "outputs": [
    {
     "name": "stdout",
     "output_type": "stream",
     "text": [
      "              precision    recall  f1-score   support\n",
      "\n",
      "           0       1.00      1.00      1.00      4751\n",
      "           1       0.99      0.98      0.98       439\n",
      "\n",
      "    accuracy                           1.00      5190\n",
      "   macro avg       0.99      0.99      0.99      5190\n",
      "weighted avg       1.00      1.00      1.00      5190\n",
      "\n"
     ]
    }
   ],
   "source": [
    "pipeline_rf = pipelines_treinados['Random Forest']\n",
    "print(classification_report(y_test, y_pred))"
   ]
  },
  {
   "cell_type": "code",
   "execution_count": 13,
   "id": "f5647ee4-4e41-4b8a-966e-92b562fa8ae8",
   "metadata": {},
   "outputs": [
    {
     "data": {
      "text/plain": [
       "['vgchartz_model_random_forest.joblib']"
      ]
     },
     "execution_count": 13,
     "metadata": {},
     "output_type": "execute_result"
    }
   ],
   "source": [
    "joblib.dump(pipeline_rf, 'vgchartz_model_random_forest.joblib')"
   ]
  },
  {
   "cell_type": "code",
   "execution_count": null,
   "id": "78e28a50-2f1f-4abd-8065-8e314c23e96f",
   "metadata": {},
   "outputs": [],
   "source": []
  },
  {
   "cell_type": "code",
   "execution_count": null,
   "id": "2b08085a-b03c-4b0d-b836-97be40989ddc",
   "metadata": {},
   "outputs": [],
   "source": []
  }
 ],
 "metadata": {
  "kernelspec": {
   "display_name": "Python 3 (ipykernel)",
   "language": "python",
   "name": "python3"
  },
  "language_info": {
   "codemirror_mode": {
    "name": "ipython",
    "version": 3
   },
   "file_extension": ".py",
   "mimetype": "text/x-python",
   "name": "python",
   "nbconvert_exporter": "python",
   "pygments_lexer": "ipython3",
   "version": "3.12.7"
  }
 },
 "nbformat": 4,
 "nbformat_minor": 5
}
