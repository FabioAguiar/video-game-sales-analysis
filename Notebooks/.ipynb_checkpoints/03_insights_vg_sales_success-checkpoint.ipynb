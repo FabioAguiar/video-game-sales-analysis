{
 "cells": [
  {
   "cell_type": "markdown",
   "id": "49fb0943-982f-4bd6-aa5c-c3f8ab863c80",
   "metadata": {},
   "source": [
    "# Análise de Vendas de Video Games com Machine Learning 🎮\n",
    "\n",
    "Neste projeto, utilizarei um dataset público com informações sobre vendas globais de jogos eletrônicos. O objetivo é entender os fatores que influenciam o sucesso de vendas de um jogo, utilizando técnicas de Machine Learning para prever se um jogo será ou não um sucesso (com base em suas características como gênero, plataforma e região de vendas).\n",
    "\n",
    "Este notebook será desenvolvido para a etapa:\n",
    "1. Visualização e geração de insights\n",
    "2. Análises\n",
    "3. Conclusão geral das análises de acurácia"
   ]
  },
  {
   "cell_type": "code",
   "execution_count": 1,
   "id": "d899f0e6-b789-48c1-8466-b5d63137738c",
   "metadata": {},
   "outputs": [],
   "source": [
    "import joblib\n",
    "import pandas as pd\n",
    "from sklearn.metrics import classification_report\n",
    "from sklearn.preprocessing import OneHotEncoder, StandardScaler\n",
    "from sklearn.model_selection import train_test_split\n",
    "\n",
    "df_model = pd.read_csv(\"C:/data/Video Game Sales/video_game_sales_com_target.csv\")\n",
    "\n",
    "# Carregar o pipeline salvo\n",
    "pipeline_rf = joblib.load('C:/ML/modelos/vgchartz_model_random_forest.joblib')"
   ]
  },
  {
   "cell_type": "code",
   "execution_count": 2,
   "id": "f06a42ca-a546-405a-b653-7749b34cd712",
   "metadata": {},
   "outputs": [],
   "source": [
    "# Separar features e target\n",
    "X = df_model.drop(columns=['Sucesso'])\n",
    "y = df_model['Sucesso']\n",
    "\n",
    "# Dividir os dados (sem aplicar transformações)\n",
    "X_train, X_test, y_train, y_test = train_test_split(\n",
    "    X, y,\n",
    "    test_size=0.3,\n",
    "    random_state=42,\n",
    "    stratify=y\n",
    ")"
   ]
  },
  {
   "cell_type": "code",
   "execution_count": 3,
   "id": "43e560eb-d6e9-4abc-803c-d07520852c87",
   "metadata": {},
   "outputs": [],
   "source": [
    "# Previsões com o pipeline, que já tem pré-processamento embutido\n",
    "y_pred = pipeline_rf.predict(X_test)"
   ]
  },
  {
   "cell_type": "code",
   "execution_count": 4,
   "id": "c081a9f8-0623-49a8-aaba-9b40cf861e82",
   "metadata": {},
   "outputs": [
    {
     "name": "stdout",
     "output_type": "stream",
     "text": [
      "              precision    recall  f1-score   support\n",
      "\n",
      "           0       1.00      1.00      1.00      4751\n",
      "           1       1.00      0.99      0.99       439\n",
      "\n",
      "    accuracy                           1.00      5190\n",
      "   macro avg       1.00      0.99      1.00      5190\n",
      "weighted avg       1.00      1.00      1.00      5190\n",
      "\n"
     ]
    }
   ],
   "source": [
    "print(classification_report(y_test, y_pred))"
   ]
  },
  {
   "cell_type": "code",
   "execution_count": 5,
   "id": "5b453dd4-b34d-4ff2-907a-298c5f786557",
   "metadata": {},
   "outputs": [],
   "source": [
    "df_completo = df_model.loc[X_test.index].copy()\n",
    "df_completo['Previsao_Sucesso'] = y_pred"
   ]
  },
  {
   "cell_type": "code",
   "execution_count": null,
   "id": "07fd5ac1-29fd-4847-8221-586f7d528628",
   "metadata": {},
   "outputs": [],
   "source": []
  },
  {
   "cell_type": "markdown",
   "id": "70dabb59-b572-414d-a9c9-cf56c6ed7ba7",
   "metadata": {},
   "source": [
    "## **Análises**"
   ]
  },
  {
   "cell_type": "markdown",
   "id": "bda6e9e4-7857-4d58-8eae-92ab95db76dd",
   "metadata": {},
   "source": [
    "### **Quais gêneros têm maior chance de sucesso?**\n",
    "\n",
    "Avaliei a **proporção de jogos bem-sucedidos por gênero**, com base nas previsões geradas pelo modelo de Machine Learning. Para isso, calculei a média da variável `Previsao_Sucesso` agrupada por gênero.\n",
    "\n",
    "Os resultados mostram que:\n",
    "\n",
    "- O gênero **Sandbox** se destacou com **100% de chance de sucesso**, sendo o único com todas as amostras classificadas como bem-sucedidas.\n",
    "- Em seguida, vieram os gêneros **Action-Adventure (21%)**, **Shooter (18%)** e **MMO (12%)**, apresentando desempenho consideravelmente acima da média geral.\n",
    "- Gêneros como **Party**, **Education**, **Board Game** e **Visual Novel** apresentaram **0% de chance de sucesso**, ou seja, nenhuma amostra desses gêneros foi prevista como bem-sucedida.\n",
    "\n",
    "Esse resultado sugere que certos gêneros têm maior potencial de sucesso comercial, o que pode refletir tendências de mercado, preferências do público ou estratégias adotadas pelos desenvolvedores.\n",
    "\n",
    "> 🔎 **Observação**: O modelo pode estar influenciado pelo volume e equilíbrio de amostras em cada gênero, bem como por possíveis correlações com variáveis como plataforma, data de lançamento e região de vendas. Por isso, os dados devem ser interpretados com cautela.\n"
   ]
  },
  {
   "cell_type": "code",
   "execution_count": 6,
   "id": "fc27f43c-3092-4b9f-a91c-2d3fea6f6bde",
   "metadata": {},
   "outputs": [
    {
     "name": "stdout",
     "output_type": "stream",
     "text": [
      "genre\n",
      "Sandbox             1.00\n",
      "Action-Adventure    0.21\n",
      "Shooter             0.18\n",
      "MMO                 0.12\n",
      "Sports              0.11\n",
      "Fighting            0.10\n",
      "Racing              0.09\n",
      "Action              0.09\n",
      "Misc                0.07\n",
      "Simulation          0.07\n",
      "Platform            0.07\n",
      "Role-Playing        0.05\n",
      "Adventure           0.04\n",
      "Music               0.02\n",
      "Puzzle              0.02\n",
      "Strategy            0.02\n",
      "Party               0.00\n",
      "Education           0.00\n",
      "Board Game          0.00\n",
      "Visual Novel        0.00\n",
      "Name: Previsao_Sucesso, dtype: float64\n"
     ]
    }
   ],
   "source": [
    "df_genero_sucesso = df_completo.groupby('genre')['Previsao_Sucesso'].mean().sort_values(ascending=False).round(2)\n",
    "print(df_genero_sucesso)"
   ]
  },
  {
   "cell_type": "markdown",
   "id": "5240caa1-fceb-4b53-b780-e499edf4bc13",
   "metadata": {},
   "source": [
    "### **Análise de acurácia por Gênero**\n",
    "\n",
    "Avaliei a acurácia por gênero comparando as previsões do modelo com os rótulos reais dos dados de teste."
   ]
  },
  {
   "cell_type": "code",
   "execution_count": 7,
   "id": "51cf8d39-fa5e-4b51-8495-6a8ee7b2a988",
   "metadata": {},
   "outputs": [
    {
     "name": "stdout",
     "output_type": "stream",
     "text": [
      "genre\n",
      "Action              1.00\n",
      "Action-Adventure    1.00\n",
      "Strategy            1.00\n",
      "Sports              1.00\n",
      "Simulation          1.00\n",
      "Shooter             1.00\n",
      "Sandbox             1.00\n",
      "Role-Playing        1.00\n",
      "Racing              1.00\n",
      "Platform            1.00\n",
      "Party               1.00\n",
      "Music               1.00\n",
      "Misc                1.00\n",
      "MMO                 1.00\n",
      "Fighting            1.00\n",
      "Education           1.00\n",
      "Board Game          1.00\n",
      "Adventure           1.00\n",
      "Visual Novel        1.00\n",
      "Puzzle              0.99\n",
      "dtype: float64\n"
     ]
    },
    {
     "name": "stderr",
     "output_type": "stream",
     "text": [
      "C:\\Users\\fabio\\AppData\\Local\\Temp\\ipykernel_17928\\2957270668.py:5: DeprecationWarning: DataFrameGroupBy.apply operated on the grouping columns. This behavior is deprecated, and in a future version of pandas the grouping columns will be excluded from the operation. Either pass `include_groups=False` to exclude the groupings or explicitly select the grouping columns after groupby to silence this warning.\n",
      "  df_acerto_por_genero = df_avaliacao.groupby('genre').apply(\n"
     ]
    }
   ],
   "source": [
    "df_avaliacao = df_completo.copy()\n",
    "df_avaliacao['Real_Sucesso'] = y_test\n",
    "\n",
    "# Calculando acurácia por plataforma\n",
    "df_acerto_por_genero = df_avaliacao.groupby('genre').apply(\n",
    "    lambda df: (df['Previsao_Sucesso'] == df['Real_Sucesso']).mean().round(2)\n",
    ").sort_values(ascending=False)\n",
    "\n",
    "print(df_acerto_por_genero)"
   ]
  },
  {
   "cell_type": "markdown",
   "id": "1da7ff91-8fd7-468a-b956-55c66dbcd25b",
   "metadata": {},
   "source": [
    "### **Análise da Chance de Sucesso e Acurácia por Gênero**"
   ]
  },
  {
   "cell_type": "code",
   "execution_count": 8,
   "id": "e1495c45-1635-4962-bf61-fcf574511a63",
   "metadata": {},
   "outputs": [
    {
     "name": "stdout",
     "output_type": "stream",
     "text": [
      "               genre  Chance de Sucesso  Acurácia\n",
      "0            Sandbox               1.00      1.00\n",
      "1   Action-Adventure               0.21      1.00\n",
      "2            Shooter               0.18      1.00\n",
      "3                MMO               0.12      1.00\n",
      "4             Sports               0.11      1.00\n",
      "5           Fighting               0.10      1.00\n",
      "6             Racing               0.09      1.00\n",
      "7             Action               0.09      1.00\n",
      "9         Simulation               0.07      1.00\n",
      "10          Platform               0.07      1.00\n",
      "8               Misc               0.07      1.00\n",
      "11      Role-Playing               0.05      1.00\n",
      "12         Adventure               0.04      1.00\n",
      "13             Music               0.02      1.00\n",
      "14            Puzzle               0.02      0.99\n",
      "15          Strategy               0.02      1.00\n",
      "16             Party               0.00      1.00\n",
      "17         Education               0.00      1.00\n",
      "18        Board Game               0.00      1.00\n",
      "19      Visual Novel               0.00      1.00\n"
     ]
    }
   ],
   "source": [
    "# Unido os dois Series em um único DataFrame\n",
    "df_analise_genero = pd.concat([df_genero_sucesso, df_acerto_por_genero], axis=1)\n",
    "\n",
    "# Renomeando colunas\n",
    "df_analise_genero.columns = ['Chance de Sucesso', 'Acurácia']\n",
    "\n",
    "# Reset do índice para deixar o gênero como coluna comum\n",
    "df_analise_genero = df_analise_genero.reset_index()\n",
    "df_analise_genero = df_analise_genero.rename(columns={'index': 'Gênero'})\n",
    "\n",
    "# Ordenar por Chance de Sucesso, do maior para o menor\n",
    "df_analise_genero = df_analise_genero.sort_values(by='Chance de Sucesso', ascending=False)\n",
    "\n",
    "print(df_analise_genero)"
   ]
  },
  {
   "cell_type": "code",
   "execution_count": null,
   "id": "750f7a38-aef9-49b2-b47e-bfd56c57eafb",
   "metadata": {},
   "outputs": [],
   "source": []
  },
  {
   "cell_type": "markdown",
   "id": "4f8e3155-5288-4144-a67d-fd8d4a5de649",
   "metadata": {},
   "source": [
    "### **Quais consoles apresentaram maior proporção de jogos bem-sucedidos?**\n",
    "\n",
    "Avaliei a proporção de sucesso prevista para os jogos em cada console, com base nas previsões do modelo. Os consoles que apresentaram maior proporção de jogos bem-sucedidos foram o **NES** (47%) e o **Mega Drive (GEN)** com 43%. Já consoles mais recentes como **Xbox 360**, **PlayStation 4** e **PlayStation 3** tiveram proporções mais modestas, entre 13% e 18%. A maioria dos demais consoles obteve proporções de sucesso inferiores a 10%."
   ]
  },
  {
   "cell_type": "code",
   "execution_count": 9,
   "id": "797034e3-94f0-4392-8456-3a3ef11b6950",
   "metadata": {},
   "outputs": [
    {
     "name": "stdout",
     "output_type": "stream",
     "text": [
      "console\n",
      "NES     0.47\n",
      "GEN     0.43\n",
      "X360    0.18\n",
      "PS4     0.16\n",
      "GB      0.15\n",
      "PS3     0.15\n",
      "PS      0.14\n",
      "XOne    0.13\n",
      "PS2     0.10\n",
      "SNES    0.09\n",
      "Wii     0.07\n",
      "N64     0.06\n",
      "DC      0.06\n",
      "GBA     0.05\n",
      "XB      0.05\n",
      "PC      0.05\n",
      "PSP     0.04\n",
      "DS      0.03\n",
      "GC      0.03\n",
      "NS      0.03\n",
      "SAT     0.02\n",
      "PSV     0.02\n",
      "3DS     0.01\n",
      "WiiU    0.00\n",
      "GG      0.00\n",
      "VC      0.00\n",
      "SCD     0.00\n",
      "NG      0.00\n",
      "3DO     0.00\n",
      "Name: Previsao_Sucesso, dtype: float64\n"
     ]
    }
   ],
   "source": [
    "df_console_sucesso = df_completo.groupby('console')['Previsao_Sucesso'].mean().sort_values(ascending=False).round(2)\n",
    "print(df_console_sucesso)"
   ]
  },
  {
   "cell_type": "markdown",
   "id": "b2a38245-c67d-4f83-a5d8-e9199a9c3632",
   "metadata": {},
   "source": [
    "### **Análise de acurácia por Console**\n",
    "\n",
    "Avaliei a acurácia das previsões do modelo para cada console, verificando a proporção de acertos entre as previsões e os valores reais de sucesso. No resultado, a maioria dos consoles obteve acurácia de **100%**, indicando que o modelo acertou todas as previsões para esses grupos. Apenas três consoles — **N64**,"
   ]
  },
  {
   "cell_type": "code",
   "execution_count": 10,
   "id": "aa239f20-75df-4bfe-9682-72f8b727d37c",
   "metadata": {},
   "outputs": [
    {
     "name": "stdout",
     "output_type": "stream",
     "text": [
      "console\n",
      "3DO     1.00\n",
      "PS2     1.00\n",
      "XB      1.00\n",
      "X360    1.00\n",
      "WiiU    1.00\n",
      "Wii     1.00\n",
      "VC      1.00\n",
      "SNES    1.00\n",
      "SCD     1.00\n",
      "SAT     1.00\n",
      "PSV     1.00\n",
      "PSP     1.00\n",
      "PS4     1.00\n",
      "PS3     1.00\n",
      "XOne    1.00\n",
      "3DS     1.00\n",
      "PC      1.00\n",
      "NS      1.00\n",
      "NG      1.00\n",
      "NES     1.00\n",
      "GG      1.00\n",
      "GEN     1.00\n",
      "GBA     1.00\n",
      "GB      1.00\n",
      "DS      1.00\n",
      "DC      1.00\n",
      "N64     0.99\n",
      "GC      0.99\n",
      "PS      0.99\n",
      "dtype: float64\n"
     ]
    },
    {
     "name": "stderr",
     "output_type": "stream",
     "text": [
      "C:\\Users\\fabio\\AppData\\Local\\Temp\\ipykernel_17928\\1603148720.py:5: DeprecationWarning: DataFrameGroupBy.apply operated on the grouping columns. This behavior is deprecated, and in a future version of pandas the grouping columns will be excluded from the operation. Either pass `include_groups=False` to exclude the groupings or explicitly select the grouping columns after groupby to silence this warning.\n",
      "  df_acerto_por_console = df_avaliacao.groupby('console').apply(\n"
     ]
    }
   ],
   "source": [
    "df_avaliacao = df_completo.copy()\n",
    "df_avaliacao['Real_Sucesso'] = y_test\n",
    "\n",
    "# Calculando acurácia por console\n",
    "df_acerto_por_console = df_avaliacao.groupby('console').apply(\n",
    "    lambda df: (df['Previsao_Sucesso'] == df['Real_Sucesso']).mean().round(2)\n",
    ").sort_values(ascending=False)\n",
    "\n",
    "print(df_acerto_por_console)"
   ]
  },
  {
   "cell_type": "markdown",
   "id": "0d8c2675-3534-4b8f-87df-76c24b1dfb7f",
   "metadata": {},
   "source": [
    "### **Análise da Chance de Sucesso e Acurácia por Console**"
   ]
  },
  {
   "cell_type": "code",
   "execution_count": 11,
   "id": "b7724270-5ff5-46b1-9a7a-33bdfaeb089e",
   "metadata": {},
   "outputs": [
    {
     "name": "stdout",
     "output_type": "stream",
     "text": [
      "   console  Chance de Sucesso  Acurácia\n",
      "0      NES               0.47      1.00\n",
      "1      GEN               0.43      1.00\n",
      "2     X360               0.18      1.00\n",
      "3      PS4               0.16      1.00\n",
      "4       GB               0.15      1.00\n",
      "5      PS3               0.15      1.00\n",
      "6       PS               0.14      0.99\n",
      "7     XOne               0.13      1.00\n",
      "8      PS2               0.10      1.00\n",
      "9     SNES               0.09      1.00\n",
      "10     Wii               0.07      1.00\n",
      "11     N64               0.06      0.99\n",
      "12      DC               0.06      1.00\n",
      "15      PC               0.05      1.00\n",
      "14      XB               0.05      1.00\n",
      "13     GBA               0.05      1.00\n",
      "16     PSP               0.04      1.00\n",
      "17      DS               0.03      1.00\n",
      "18      GC               0.03      0.99\n",
      "19      NS               0.03      1.00\n",
      "20     SAT               0.02      1.00\n",
      "21     PSV               0.02      1.00\n",
      "22     3DS               0.01      1.00\n",
      "23    WiiU               0.00      1.00\n",
      "24      GG               0.00      1.00\n",
      "25      VC               0.00      1.00\n",
      "26     SCD               0.00      1.00\n",
      "27      NG               0.00      1.00\n",
      "28     3DO               0.00      1.00\n"
     ]
    }
   ],
   "source": [
    "# Unido os dois Series em um único DataFrame\n",
    "df_analise_console = pd.concat([df_console_sucesso, df_acerto_por_console], axis=1)\n",
    "\n",
    "# Renomeando colunas\n",
    "df_analise_console.columns = ['Chance de Sucesso', 'Acurácia']\n",
    "\n",
    "# Reset do índice para deixar o gênero como coluna comum\n",
    "df_analise_console = df_analise_console.reset_index()\n",
    "df_analise_console = df_analise_console.rename(columns={'index': 'Gênero'})\n",
    "\n",
    "# Ordenar por Chance de Sucesso, do maior para o menor\n",
    "df_analise_console = df_analise_console.sort_values(by='Chance de Sucesso', ascending=False)\n",
    "\n",
    "print(df_analise_console)"
   ]
  },
  {
   "cell_type": "markdown",
   "id": "f6fd4d57-ee12-4c19-a216-ac10c44080fa",
   "metadata": {},
   "source": []
  },
  {
   "cell_type": "markdown",
   "id": "82eab9c0-7ae4-4669-b0d2-354b57ad6d88",
   "metadata": {},
   "source": [
    "### **Quais fabricantes apresentaram maior proporção de jogos bem-sucedidos?**\n",
    "Calculei a média das previsões de sucesso para os jogos de cada fabricante, revelando quais apresentaram maior proporção de títulos bem-sucedidos segundo o modelo. A **Microsoft** lidera com 13% dos jogos previstos como sucesso, seguida por **Sony** com 10%. **Sega**, **Nintendo** e o grupo classificado como **Outros** aparecem com proporções menores, enquanto a **SNK** não teve jogos classificados como bem-sucedidos."
   ]
  },
  {
   "cell_type": "code",
   "execution_count": 12,
   "id": "55bd4954-110c-4d4f-ae67-131bc21c080b",
   "metadata": {},
   "outputs": [
    {
     "name": "stdout",
     "output_type": "stream",
     "text": [
      "console_fabricator\n",
      "Microsoft    0.13\n",
      "Sony         0.10\n",
      "Sega         0.07\n",
      "Nintendo     0.05\n",
      "Outros       0.05\n",
      "SNK          0.00\n",
      "Name: Previsao_Sucesso, dtype: float64\n"
     ]
    }
   ],
   "source": [
    "df_fabricante_sucesso = df_completo.groupby('console_fabricator')['Previsao_Sucesso'].mean().sort_values(ascending=False).round(2)\n",
    "print(df_fabricante_sucesso)"
   ]
  },
  {
   "cell_type": "markdown",
   "id": "475e3c2a-33fa-4e77-9617-26c7ffe1ed5b",
   "metadata": {},
   "source": [
    "### **Análise de acurácia por Fabricante**\n",
    "Avaliei a acurácia das previsões do modelo agrupando os resultados por fabricante de console. Todos os fabricantes apresentaram **100% de acerto** nas amostras testadas, o que indica que o modelo conseguiu prever corretamente o sucesso ou fracasso dos jogos de forma consistente em todos os grupos.\n"
   ]
  },
  {
   "cell_type": "code",
   "execution_count": 13,
   "id": "96804050-192d-4d9c-b978-c025a5e66a49",
   "metadata": {},
   "outputs": [
    {
     "name": "stdout",
     "output_type": "stream",
     "text": [
      "console_fabricator\n",
      "Microsoft    1.0\n",
      "Nintendo     1.0\n",
      "Outros       1.0\n",
      "SNK          1.0\n",
      "Sega         1.0\n",
      "Sony         1.0\n",
      "dtype: float64\n"
     ]
    },
    {
     "name": "stderr",
     "output_type": "stream",
     "text": [
      "C:\\Users\\fabio\\AppData\\Local\\Temp\\ipykernel_17928\\4199258806.py:5: DeprecationWarning: DataFrameGroupBy.apply operated on the grouping columns. This behavior is deprecated, and in a future version of pandas the grouping columns will be excluded from the operation. Either pass `include_groups=False` to exclude the groupings or explicitly select the grouping columns after groupby to silence this warning.\n",
      "  df_acerto_por_fabricante_console = df_avaliacao.groupby('console_fabricator').apply(\n"
     ]
    }
   ],
   "source": [
    "df_avaliacao = df_completo.copy()\n",
    "df_avaliacao['Real_Sucesso'] = y_test\n",
    "\n",
    "# Calculando acurácia por fabricante de console\n",
    "df_acerto_por_fabricante_console = df_avaliacao.groupby('console_fabricator').apply(\n",
    "    lambda df: (df['Previsao_Sucesso'] == df['Real_Sucesso']).mean().round(2)\n",
    ").sort_values(ascending=False)\n",
    "\n",
    "print(df_acerto_por_fabricante_console)"
   ]
  },
  {
   "cell_type": "markdown",
   "id": "6e97b594-d1a3-4342-b55d-9de454009095",
   "metadata": {},
   "source": [
    "### **Análise da Chance de Sucesso e Acurácia por Fabricante de Console**"
   ]
  },
  {
   "cell_type": "code",
   "execution_count": 14,
   "id": "1ec91b62-427e-4988-a2e5-310b3588b89e",
   "metadata": {},
   "outputs": [
    {
     "name": "stdout",
     "output_type": "stream",
     "text": [
      "  console_fabricator  Chance de Sucesso  Acurácia\n",
      "0          Microsoft               0.13       1.0\n",
      "1               Sony               0.10       1.0\n",
      "2               Sega               0.07       1.0\n",
      "3           Nintendo               0.05       1.0\n",
      "4             Outros               0.05       1.0\n",
      "5                SNK               0.00       1.0\n"
     ]
    }
   ],
   "source": [
    "# Unido os dois Series em um único DataFrame\n",
    "df_analise_fabricante_console = pd.concat([df_fabricante_sucesso, df_acerto_por_fabricante_console], axis=1)\n",
    "\n",
    "# Renomeando colunas\n",
    "df_analise_fabricante_console.columns = ['Chance de Sucesso', 'Acurácia']\n",
    "\n",
    "# Reset do índice para deixar o gênero como coluna comum\n",
    "df_analise_fabricante_console = df_analise_fabricante_console.reset_index()\n",
    "df_analise_fabricante_console = df_analise_fabricante_console.rename(columns={'index': 'Fabricante'})\n",
    "\n",
    "# Ordenar por Chance de Sucesso, do maior para o menor\n",
    "df_analise_fabricante_console = df_analise_fabricante_console.sort_values(by='Chance de Sucesso', ascending=False)\n",
    "\n",
    "print(df_analise_fabricante_console)"
   ]
  },
  {
   "cell_type": "code",
   "execution_count": null,
   "id": "efeeb368-dd5a-4f59-9bb6-b6263683457d",
   "metadata": {},
   "outputs": [],
   "source": []
  },
  {
   "cell_type": "markdown",
   "id": "fcf8ff5e-0ec2-4b7a-80a8-d85063fa9af8",
   "metadata": {},
   "source": [
    "### **Qual região apresenta maior proporção de jogos bem-sucedidos?**\n",
    "Os jogos classificados como sucesso pelo modelo apresentam maior desempenho comercial na América do Norte e Europa, enquanto as vendas no Japão e em outras regiões são significativamente menores.\n"
   ]
  },
  {
   "cell_type": "code",
   "execution_count": 15,
   "id": "11023dcd-6f7f-46c6-98af-8ed51719c546",
   "metadata": {},
   "outputs": [
    {
     "name": "stdout",
     "output_type": "stream",
     "text": [
      "Média de vendas em milhõs: \n",
      "  regiao_sigla       regiao_nome  vendas\n",
      "0     na_sales  América do Norte    1.10\n",
      "1    pal_sales            Europa    0.86\n",
      "2     jp_sales             Japão    0.10\n",
      "3  other_sales    Outras regiões    0.28\n"
     ]
    }
   ],
   "source": [
    "# Filtrar jogos bem-sucedidos\n",
    "df_analise_regiao_sucesso = df_completo[df_completo['Previsao_Sucesso'] == 1]\n",
    "\n",
    "# Calcular a média de vendas por região\n",
    "df_analise_regiao_sucesso = df_analise_regiao_sucesso[['na_sales', 'pal_sales', 'jp_sales', 'other_sales']].mean().round(2)\n",
    "\n",
    "# Converter Series para DataFrame\n",
    "df_analise_regiao_sucesso = df_analise_regiao_sucesso.reset_index()\n",
    "df_analise_regiao_sucesso.columns = ['regiao_sigla', 'vendas']\n",
    "\n",
    "# Mapear siglas para nomes completos\n",
    "mapa_regioes = {\n",
    "    'na_sales': 'América do Norte',\n",
    "    'pal_sales': 'Europa',\n",
    "    'jp_sales': 'Japão',\n",
    "    'other_sales': 'Outras regiões'\n",
    "}\n",
    "\n",
    "# Criar nova coluna com nomes completos\n",
    "df_analise_regiao_sucesso['regiao_nome'] = df_analise_regiao_sucesso['regiao_sigla'].map(mapa_regioes)\n",
    "\n",
    "# Reorganizar colunas\n",
    "df_analise_regiao_sucesso = df_analise_regiao_sucesso[['regiao_sigla', 'regiao_nome', 'vendas']]\n",
    "\n",
    "print(\"Média de vendas em milhõs: \")\n",
    "print(df_analise_regiao_sucesso)"
   ]
  },
  {
   "cell_type": "markdown",
   "id": "f2d40ec7-473d-40bd-bf2a-52f89ad41107",
   "metadata": {},
   "source": [
    "Apesar do Japão ser uma potência em desenvolvimento e consumo de jogos, os títulos bem-sucedidos segundo nosso modelo apresentaram, em média, vendas significativamente menores nessa região. Isso pode ser explicado pelo foco local de muitos desenvolvedores japoneses, que criam jogos voltados majoritariamente para o público interno, sem priorizar a tradução ou a distribuição internacional. Com isso, esses jogos acabam tendo menor expressão nos dados globais e, por consequência, menor impacto na métrica de sucesso usada pelo modelo."
   ]
  },
  {
   "cell_type": "code",
   "execution_count": null,
   "id": "09f1baa2-c153-4894-8d92-4bf00db544e8",
   "metadata": {},
   "outputs": [],
   "source": []
  },
  {
   "cell_type": "markdown",
   "id": "5efd7239-cd76-4d0d-81aa-2e3baeb7d420",
   "metadata": {},
   "source": [
    "### **Conclusão geral das análises de acurácia**\n",
    "\n",
    "Avaliando os resultados por console e por fabricante, observei que a acurácia do modelo foi extremamente alta, alcançando 100% na maioria das categorias. Isso indica que o modelo conseguiu capturar com precisão os padrões que definem o sucesso de um jogo, com desempenho consistente entre diferentes plataformas e fabricantes.\n",
    "\n",
    "Apesar da alta acurácia, é importante destacar que esse valor pode estar relacionado ao balanceamento ou à simplicidade da variável alvo. Ainda assim, os resultados obtidos reforçam a confiabilidade do modelo nas previsões realizadas.\n",
    "\n",
    "Essas análises contribuem para validar a abordagem adotada e fortalecem a confiança nos insights extraídos a partir das previsões.\n",
    "\n"
   ]
  },
  {
   "cell_type": "code",
   "execution_count": null,
   "id": "1c9afda9-e2fa-4265-ba5e-b21498da9db5",
   "metadata": {},
   "outputs": [],
   "source": []
  },
  {
   "cell_type": "markdown",
   "id": "8f5a7340-6cb8-4a41-b3cd-fbb35eb89923",
   "metadata": {},
   "source": [
    "## Análise de Erros do Modelo\n",
    "\n",
    "Seis jogos que tiveram sucesso foram previstos como não sucesso e dois jogos que não foram sucesso foram previstos como sucesso pelo modelo. Isso evidencia a presença defalsos positivos e falsos negativos, que indicam que o modelo não está apenas replicando padrões óbvios, mas tentando generalizar, com uma margem de erro aceitável para um projeto inicial."
   ]
  },
  {
   "cell_type": "markdown",
   "id": "13de0b4f-3a19-4f49-9dd3-21d8e76d17fe",
   "metadata": {},
   "source": [
    "#### Tabela com Falsos Positivos (FP)"
   ]
  },
  {
   "cell_type": "code",
   "execution_count": 20,
   "id": "4fe57757-babc-4d8e-901d-e2db6aa8d51c",
   "metadata": {},
   "outputs": [
    {
     "data": {
      "text/html": [
       "<div>\n",
       "<style scoped>\n",
       "    .dataframe tbody tr th:only-of-type {\n",
       "        vertical-align: middle;\n",
       "    }\n",
       "\n",
       "    .dataframe tbody tr th {\n",
       "        vertical-align: top;\n",
       "    }\n",
       "\n",
       "    .dataframe thead th {\n",
       "        text-align: right;\n",
       "    }\n",
       "</style>\n",
       "<table border=\"1\" class=\"dataframe\">\n",
       "  <thead>\n",
       "    <tr style=\"text-align: right;\">\n",
       "      <th></th>\n",
       "      <th>title</th>\n",
       "      <th>console</th>\n",
       "      <th>console_fabricator</th>\n",
       "      <th>genre</th>\n",
       "      <th>publisher</th>\n",
       "      <th>developer</th>\n",
       "      <th>release_date</th>\n",
       "      <th>ano</th>\n",
       "      <th>total_sales</th>\n",
       "      <th>na_sales</th>\n",
       "      <th>jp_sales</th>\n",
       "      <th>pal_sales</th>\n",
       "      <th>other_sales</th>\n",
       "      <th>Sucesso</th>\n",
       "      <th>Previsao_Sucesso</th>\n",
       "    </tr>\n",
       "  </thead>\n",
       "  <tbody>\n",
       "    <tr>\n",
       "      <th>1226</th>\n",
       "      <td>Brave Fencer Musashi</td>\n",
       "      <td>PS</td>\n",
       "      <td>Sony</td>\n",
       "      <td>Role-Playing</td>\n",
       "      <td>Square</td>\n",
       "      <td>SquareSoft</td>\n",
       "      <td>1998-10-31</td>\n",
       "      <td>1998</td>\n",
       "      <td>1.14</td>\n",
       "      <td>0.25</td>\n",
       "      <td>0.65</td>\n",
       "      <td>0.17</td>\n",
       "      <td>0.07</td>\n",
       "      <td>1</td>\n",
       "      <td>0</td>\n",
       "    </tr>\n",
       "    <tr>\n",
       "      <th>1221</th>\n",
       "      <td>Hot Shots Golf: Out of Bounds</td>\n",
       "      <td>PS3</td>\n",
       "      <td>Sony</td>\n",
       "      <td>Sports</td>\n",
       "      <td>Sony Computer Entertainment</td>\n",
       "      <td>Clap Hanz</td>\n",
       "      <td>2008-03-18</td>\n",
       "      <td>2008</td>\n",
       "      <td>1.14</td>\n",
       "      <td>0.31</td>\n",
       "      <td>0.76</td>\n",
       "      <td>0.03</td>\n",
       "      <td>0.04</td>\n",
       "      <td>1</td>\n",
       "      <td>0</td>\n",
       "    </tr>\n",
       "    <tr>\n",
       "      <th>1407</th>\n",
       "      <td>Bomberman 64</td>\n",
       "      <td>N64</td>\n",
       "      <td>Nintendo</td>\n",
       "      <td>Puzzle</td>\n",
       "      <td>Hudson Soft</td>\n",
       "      <td>Hudson Soft</td>\n",
       "      <td>1997-12-02</td>\n",
       "      <td>1997</td>\n",
       "      <td>1.04</td>\n",
       "      <td>0.50</td>\n",
       "      <td>0.31</td>\n",
       "      <td>0.20</td>\n",
       "      <td>0.03</td>\n",
       "      <td>1</td>\n",
       "      <td>0</td>\n",
       "    </tr>\n",
       "    <tr>\n",
       "      <th>1469</th>\n",
       "      <td>Breath of Fire III</td>\n",
       "      <td>PS</td>\n",
       "      <td>Sony</td>\n",
       "      <td>Role-Playing</td>\n",
       "      <td>Capcom</td>\n",
       "      <td>Capcom</td>\n",
       "      <td>1998-04-30</td>\n",
       "      <td>1998</td>\n",
       "      <td>1.01</td>\n",
       "      <td>0.29</td>\n",
       "      <td>0.46</td>\n",
       "      <td>0.19</td>\n",
       "      <td>0.07</td>\n",
       "      <td>1</td>\n",
       "      <td>0</td>\n",
       "    </tr>\n",
       "    <tr>\n",
       "      <th>1425</th>\n",
       "      <td>Dragon Ball Z: Budokai Tenkaichi 3</td>\n",
       "      <td>Wii</td>\n",
       "      <td>Nintendo</td>\n",
       "      <td>Fighting</td>\n",
       "      <td>Atari</td>\n",
       "      <td>Spike / Bandai Namco Games</td>\n",
       "      <td>2007-12-03</td>\n",
       "      <td>2007</td>\n",
       "      <td>1.02</td>\n",
       "      <td>0.32</td>\n",
       "      <td>0.26</td>\n",
       "      <td>0.36</td>\n",
       "      <td>0.08</td>\n",
       "      <td>1</td>\n",
       "      <td>0</td>\n",
       "    </tr>\n",
       "    <tr>\n",
       "      <th>1429</th>\n",
       "      <td>Shrek 2</td>\n",
       "      <td>GC</td>\n",
       "      <td>Nintendo</td>\n",
       "      <td>Platform</td>\n",
       "      <td>Activision</td>\n",
       "      <td>Luxoflux, Inc.</td>\n",
       "      <td>2004-04-28</td>\n",
       "      <td>2004</td>\n",
       "      <td>1.03</td>\n",
       "      <td>0.73</td>\n",
       "      <td>0.01</td>\n",
       "      <td>0.26</td>\n",
       "      <td>0.03</td>\n",
       "      <td>1</td>\n",
       "      <td>0</td>\n",
       "    </tr>\n",
       "  </tbody>\n",
       "</table>\n",
       "</div>"
      ],
      "text/plain": [
       "                                   title console console_fabricator  \\\n",
       "1226                Brave Fencer Musashi      PS               Sony   \n",
       "1221       Hot Shots Golf: Out of Bounds     PS3               Sony   \n",
       "1407                        Bomberman 64     N64           Nintendo   \n",
       "1469                  Breath of Fire III      PS               Sony   \n",
       "1425  Dragon Ball Z: Budokai Tenkaichi 3     Wii           Nintendo   \n",
       "1429                             Shrek 2      GC           Nintendo   \n",
       "\n",
       "             genre                    publisher                   developer  \\\n",
       "1226  Role-Playing                       Square                  SquareSoft   \n",
       "1221        Sports  Sony Computer Entertainment                   Clap Hanz   \n",
       "1407        Puzzle                  Hudson Soft                 Hudson Soft   \n",
       "1469  Role-Playing                       Capcom                      Capcom   \n",
       "1425      Fighting                        Atari  Spike / Bandai Namco Games   \n",
       "1429      Platform                   Activision              Luxoflux, Inc.   \n",
       "\n",
       "     release_date   ano  total_sales  na_sales  jp_sales  pal_sales  \\\n",
       "1226   1998-10-31  1998         1.14      0.25      0.65       0.17   \n",
       "1221   2008-03-18  2008         1.14      0.31      0.76       0.03   \n",
       "1407   1997-12-02  1997         1.04      0.50      0.31       0.20   \n",
       "1469   1998-04-30  1998         1.01      0.29      0.46       0.19   \n",
       "1425   2007-12-03  2007         1.02      0.32      0.26       0.36   \n",
       "1429   2004-04-28  2004         1.03      0.73      0.01       0.26   \n",
       "\n",
       "      other_sales  Sucesso  Previsao_Sucesso  \n",
       "1226         0.07        1                 0  \n",
       "1221         0.04        1                 0  \n",
       "1407         0.03        1                 0  \n",
       "1469         0.07        1                 0  \n",
       "1425         0.08        1                 0  \n",
       "1429         0.03        1                 0  "
      ]
     },
     "execution_count": 20,
     "metadata": {},
     "output_type": "execute_result"
    }
   ],
   "source": [
    "df_completo[(df_completo['Sucesso'] == 1) & (df_completo['Previsao_Sucesso'] == 0)]"
   ]
  },
  {
   "cell_type": "markdown",
   "id": "4255655a-4ed0-4f25-b8d0-cf8b60adaf87",
   "metadata": {},
   "source": [
    "#### Tabela com Falsos Negativos (FN)"
   ]
  },
  {
   "cell_type": "code",
   "execution_count": 19,
   "id": "a2af2323-798c-47ff-a84b-311908268954",
   "metadata": {},
   "outputs": [
    {
     "data": {
      "text/html": [
       "<div>\n",
       "<style scoped>\n",
       "    .dataframe tbody tr th:only-of-type {\n",
       "        vertical-align: middle;\n",
       "    }\n",
       "\n",
       "    .dataframe tbody tr th {\n",
       "        vertical-align: top;\n",
       "    }\n",
       "\n",
       "    .dataframe thead th {\n",
       "        text-align: right;\n",
       "    }\n",
       "</style>\n",
       "<table border=\"1\" class=\"dataframe\">\n",
       "  <thead>\n",
       "    <tr style=\"text-align: right;\">\n",
       "      <th></th>\n",
       "      <th>title</th>\n",
       "      <th>console</th>\n",
       "      <th>console_fabricator</th>\n",
       "      <th>genre</th>\n",
       "      <th>publisher</th>\n",
       "      <th>developer</th>\n",
       "      <th>release_date</th>\n",
       "      <th>ano</th>\n",
       "      <th>total_sales</th>\n",
       "      <th>na_sales</th>\n",
       "      <th>jp_sales</th>\n",
       "      <th>pal_sales</th>\n",
       "      <th>other_sales</th>\n",
       "      <th>Sucesso</th>\n",
       "      <th>Previsao_Sucesso</th>\n",
       "    </tr>\n",
       "  </thead>\n",
       "  <tbody>\n",
       "    <tr>\n",
       "      <th>1804</th>\n",
       "      <td>FIFA Soccer 08</td>\n",
       "      <td>DS</td>\n",
       "      <td>Nintendo</td>\n",
       "      <td>Sports</td>\n",
       "      <td>EA Sports</td>\n",
       "      <td>EA Canada</td>\n",
       "      <td>2007-10-09</td>\n",
       "      <td>2007</td>\n",
       "      <td>0.86</td>\n",
       "      <td>0.10</td>\n",
       "      <td>0.00</td>\n",
       "      <td>0.65</td>\n",
       "      <td>0.11</td>\n",
       "      <td>0</td>\n",
       "      <td>1</td>\n",
       "    </tr>\n",
       "    <tr>\n",
       "      <th>1454</th>\n",
       "      <td>F1 2012</td>\n",
       "      <td>PS3</td>\n",
       "      <td>Sony</td>\n",
       "      <td>Racing</td>\n",
       "      <td>Codemasters</td>\n",
       "      <td>Codemasters Birmingham</td>\n",
       "      <td>2012-09-18</td>\n",
       "      <td>2012</td>\n",
       "      <td>1.00</td>\n",
       "      <td>0.12</td>\n",
       "      <td>0.05</td>\n",
       "      <td>0.65</td>\n",
       "      <td>0.18</td>\n",
       "      <td>0</td>\n",
       "      <td>1</td>\n",
       "    </tr>\n",
       "  </tbody>\n",
       "</table>\n",
       "</div>"
      ],
      "text/plain": [
       "               title console console_fabricator   genre    publisher  \\\n",
       "1804  FIFA Soccer 08      DS           Nintendo  Sports    EA Sports   \n",
       "1454         F1 2012     PS3               Sony  Racing  Codemasters   \n",
       "\n",
       "                   developer release_date   ano  total_sales  na_sales  \\\n",
       "1804               EA Canada   2007-10-09  2007         0.86      0.10   \n",
       "1454  Codemasters Birmingham   2012-09-18  2012         1.00      0.12   \n",
       "\n",
       "      jp_sales  pal_sales  other_sales  Sucesso  Previsao_Sucesso  \n",
       "1804      0.00       0.65         0.11        0                 1  \n",
       "1454      0.05       0.65         0.18        0                 1  "
      ]
     },
     "execution_count": 19,
     "metadata": {},
     "output_type": "execute_result"
    }
   ],
   "source": [
    "df_completo[(df_completo['Sucesso'] == 0) & (df_completo['Previsao_Sucesso'] == 1)]"
   ]
  },
  {
   "cell_type": "code",
   "execution_count": null,
   "id": "74dc18c1-a872-4295-9c2c-cd42b339af77",
   "metadata": {},
   "outputs": [],
   "source": []
  },
  {
   "cell_type": "markdown",
   "id": "0c48b1e6-5b8f-4551-b8b5-b152977e1df0",
   "metadata": {},
   "source": [
    "### **Exportação dos Resultados das Análises**"
   ]
  },
  {
   "cell_type": "code",
   "execution_count": null,
   "id": "de217ef1-d628-4c7e-ba3b-041daa786932",
   "metadata": {},
   "outputs": [],
   "source": [
    "df_analise_genero.to_csv('analise_genero_sucesso_acuracia.csv', index=True)\n",
    "df_analise_console.to_csv('analise_console_sucesso_acuracia.csv', index=True)\n",
    "df_analise_fabricante_console.to_csv('analise_fabricante_previsao_acuracia.csv', index=True)\n",
    "df_analise_regiao_sucesso.to_csv('analise_regiao_sucesso.csv', index=True)"
   ]
  }
 ],
 "metadata": {
  "kernelspec": {
   "display_name": "Python 3 (ipykernel)",
   "language": "python",
   "name": "python3"
  },
  "language_info": {
   "codemirror_mode": {
    "name": "ipython",
    "version": 3
   },
   "file_extension": ".py",
   "mimetype": "text/x-python",
   "name": "python",
   "nbconvert_exporter": "python",
   "pygments_lexer": "ipython3",
   "version": "3.12.7"
  }
 },
 "nbformat": 4,
 "nbformat_minor": 5
}
