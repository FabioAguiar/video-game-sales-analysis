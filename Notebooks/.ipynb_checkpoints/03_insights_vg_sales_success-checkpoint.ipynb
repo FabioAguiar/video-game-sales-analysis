{
 "cells": [
  {
   "cell_type": "markdown",
   "id": "49fb0943-982f-4bd6-aa5c-c3f8ab863c80",
   "metadata": {},
   "source": [
    "# Análise de Vendas de Video Games com Machine Learning 🎮\n",
    "\n",
    "Neste projeto, utilizarei um dataset público com informações sobre vendas globais de jogos eletrônicos. O objetivo é entender os fatores que influenciam o sucesso de vendas de um jogo, utilizando técnicas de Machine Learning para prever se um jogo será ou não um sucesso (com base em suas características como gênero, plataforma e região de vendas).\n",
    "\n",
    "Este notebook será desenvolvido para a etapa:\n",
    "1. Visualização e geração de insights"
   ]
  },
  {
   "cell_type": "code",
   "execution_count": 1,
   "id": "d899f0e6-b789-48c1-8466-b5d63137738c",
   "metadata": {},
   "outputs": [],
   "source": [
    "import joblib\n",
    "import pandas as pd\n",
    "from sklearn.metrics import classification_report\n",
    "from sklearn.preprocessing import OneHotEncoder, StandardScaler\n",
    "from sklearn.model_selection import train_test_split\n",
    "\n",
    "df_model = pd.read_csv(\"C:/data/Video Game Sales/video_game_sales_com_target.csv\")\n",
    "\n",
    "# Carregar o pipeline salvo\n",
    "pipeline_rf = joblib.load('C:/ML/modelos/vgchartz_model_random_forest.joblib')"
   ]
  },
  {
   "cell_type": "code",
   "execution_count": 2,
   "id": "f06a42ca-a546-405a-b653-7749b34cd712",
   "metadata": {},
   "outputs": [],
   "source": [
    "# Separar features e target\n",
    "X = df_model.drop(columns=['Sucesso'])\n",
    "y = df_model['Sucesso']\n",
    "\n",
    "# Dividir os dados (sem aplicar transformações)\n",
    "X_train, X_test, y_train, y_test = train_test_split(\n",
    "    X, y,\n",
    "    test_size=0.3,\n",
    "    random_state=42,\n",
    "    stratify=y\n",
    ")"
   ]
  },
  {
   "cell_type": "code",
   "execution_count": 3,
   "id": "43e560eb-d6e9-4abc-803c-d07520852c87",
   "metadata": {},
   "outputs": [],
   "source": [
    "# Previsões com o pipeline, que já tem pré-processamento embutido\n",
    "y_pred = pipeline_rf.predict(X_test)"
   ]
  },
  {
   "cell_type": "code",
   "execution_count": 4,
   "id": "c081a9f8-0623-49a8-aaba-9b40cf861e82",
   "metadata": {},
   "outputs": [
    {
     "name": "stdout",
     "output_type": "stream",
     "text": [
      "              precision    recall  f1-score   support\n",
      "\n",
      "           0       1.00      1.00      1.00      4751\n",
      "           1       1.00      0.99      0.99       439\n",
      "\n",
      "    accuracy                           1.00      5190\n",
      "   macro avg       1.00      0.99      1.00      5190\n",
      "weighted avg       1.00      1.00      1.00      5190\n",
      "\n"
     ]
    }
   ],
   "source": [
    "print(classification_report(y_test, y_pred))"
   ]
  },
  {
   "cell_type": "code",
   "execution_count": 5,
   "id": "5b453dd4-b34d-4ff2-907a-298c5f786557",
   "metadata": {},
   "outputs": [],
   "source": [
    "df_completo = df_model.loc[X_test.index].copy()\n",
    "df_completo['Previsao_Sucesso'] = y_pred"
   ]
  },
  {
   "cell_type": "code",
   "execution_count": null,
   "id": "07fd5ac1-29fd-4847-8221-586f7d528628",
   "metadata": {},
   "outputs": [],
   "source": []
  },
  {
   "cell_type": "markdown",
   "id": "70dabb59-b572-414d-a9c9-cf56c6ed7ba7",
   "metadata": {},
   "source": [
    "## **Análises**"
   ]
  },
  {
   "cell_type": "markdown",
   "id": "bda6e9e4-7857-4d58-8eae-92ab95db76dd",
   "metadata": {},
   "source": [
    "### **Quais gêneros têm maior chance de sucesso?**\n",
    "\n",
    "Avaliei a **proporção de jogos bem-sucedidos por gênero**, com base nas previsões geradas pelo modelo de Machine Learning. Para isso, calculei a média da variável `Previsao_Sucesso` agrupada por gênero.\n",
    "\n",
    "Os resultados mostram que:\n",
    "\n",
    "- O gênero **Sandbox** se destacou com **100% de chance de sucesso**, sendo o único com todas as amostras classificadas como bem-sucedidas.\n",
    "- Em seguida, vieram os gêneros **Action-Adventure (21%)**, **Shooter (18%)** e **MMO (12%)**, apresentando desempenho consideravelmente acima da média geral.\n",
    "- Gêneros como **Party**, **Education**, **Board Game** e **Visual Novel** apresentaram **0% de chance de sucesso**, ou seja, nenhuma amostra desses gêneros foi prevista como bem-sucedida.\n",
    "\n",
    "Esse resultado sugere que certos gêneros têm maior potencial de sucesso comercial, o que pode refletir tendências de mercado, preferências do público ou estratégias adotadas pelos desenvolvedores.\n",
    "\n",
    "> 🔎 **Observação**: O modelo pode estar influenciado pelo volume e equilíbrio de amostras em cada gênero, bem como por possíveis correlações com variáveis como plataforma, data de lançamento e região de vendas. Por isso, os dados devem ser interpretados com cautela.\n"
   ]
  },
  {
   "cell_type": "code",
   "execution_count": 6,
   "id": "fc27f43c-3092-4b9f-a91c-2d3fea6f6bde",
   "metadata": {},
   "outputs": [
    {
     "name": "stdout",
     "output_type": "stream",
     "text": [
      "genre\n",
      "Sandbox             1.00\n",
      "Action-Adventure    0.21\n",
      "Shooter             0.18\n",
      "MMO                 0.12\n",
      "Sports              0.11\n",
      "Fighting            0.10\n",
      "Racing              0.09\n",
      "Action              0.09\n",
      "Misc                0.07\n",
      "Simulation          0.07\n",
      "Platform            0.07\n",
      "Role-Playing        0.05\n",
      "Adventure           0.04\n",
      "Music               0.02\n",
      "Puzzle              0.02\n",
      "Strategy            0.02\n",
      "Party               0.00\n",
      "Education           0.00\n",
      "Board Game          0.00\n",
      "Visual Novel        0.00\n",
      "Name: Previsao_Sucesso, dtype: float64\n"
     ]
    }
   ],
   "source": [
    "df_genero_sucesso = df_completo.groupby('genre')['Previsao_Sucesso'].mean().sort_values(ascending=False).round(2)\n",
    "print(df_genero_sucesso)"
   ]
  },
  {
   "cell_type": "markdown",
   "id": "5240caa1-fceb-4b53-b780-e499edf4bc13",
   "metadata": {},
   "source": [
    "### **Análise de acurácia por Gênero**\n",
    "\n",
    "Avaliei a acurácia por gênero comparando as previsões do modelo com os rótulos reais dos dados de teste."
   ]
  },
  {
   "cell_type": "code",
   "execution_count": 7,
   "id": "51cf8d39-fa5e-4b51-8495-6a8ee7b2a988",
   "metadata": {},
   "outputs": [
    {
     "name": "stdout",
     "output_type": "stream",
     "text": [
      "genre\n",
      "Action              1.00\n",
      "Action-Adventure    1.00\n",
      "Strategy            1.00\n",
      "Sports              1.00\n",
      "Simulation          1.00\n",
      "Shooter             1.00\n",
      "Sandbox             1.00\n",
      "Role-Playing        1.00\n",
      "Racing              1.00\n",
      "Platform            1.00\n",
      "Party               1.00\n",
      "Music               1.00\n",
      "Misc                1.00\n",
      "MMO                 1.00\n",
      "Fighting            1.00\n",
      "Education           1.00\n",
      "Board Game          1.00\n",
      "Adventure           1.00\n",
      "Visual Novel        1.00\n",
      "Puzzle              0.99\n",
      "dtype: float64\n"
     ]
    },
    {
     "name": "stderr",
     "output_type": "stream",
     "text": [
      "C:\\Users\\fabio\\AppData\\Local\\Temp\\ipykernel_2440\\2957270668.py:5: DeprecationWarning: DataFrameGroupBy.apply operated on the grouping columns. This behavior is deprecated, and in a future version of pandas the grouping columns will be excluded from the operation. Either pass `include_groups=False` to exclude the groupings or explicitly select the grouping columns after groupby to silence this warning.\n",
      "  df_acerto_por_genero = df_avaliacao.groupby('genre').apply(\n"
     ]
    }
   ],
   "source": [
    "df_avaliacao = df_completo.copy()\n",
    "df_avaliacao['Real_Sucesso'] = y_test\n",
    "\n",
    "# Calculando acurácia por plataforma\n",
    "df_acerto_por_genero = df_avaliacao.groupby('genre').apply(\n",
    "    lambda df: (df['Previsao_Sucesso'] == df['Real_Sucesso']).mean().round(2)\n",
    ").sort_values(ascending=False)\n",
    "\n",
    "print(df_acerto_por_genero)"
   ]
  },
  {
   "cell_type": "markdown",
   "id": "1da7ff91-8fd7-468a-b956-55c66dbcd25b",
   "metadata": {},
   "source": [
    "### **Análise da Chance de Sucesso e Acurácia por Gênero**"
   ]
  },
  {
   "cell_type": "code",
   "execution_count": 8,
   "id": "e1495c45-1635-4962-bf61-fcf574511a63",
   "metadata": {},
   "outputs": [
    {
     "name": "stdout",
     "output_type": "stream",
     "text": [
      "               genre  Chance de Sucesso  Acurácia\n",
      "0            Sandbox               1.00      1.00\n",
      "1   Action-Adventure               0.21      1.00\n",
      "2            Shooter               0.18      1.00\n",
      "3                MMO               0.12      1.00\n",
      "4             Sports               0.11      1.00\n",
      "5           Fighting               0.10      1.00\n",
      "6             Racing               0.09      1.00\n",
      "7             Action               0.09      1.00\n",
      "9         Simulation               0.07      1.00\n",
      "10          Platform               0.07      1.00\n",
      "8               Misc               0.07      1.00\n",
      "11      Role-Playing               0.05      1.00\n",
      "12         Adventure               0.04      1.00\n",
      "13             Music               0.02      1.00\n",
      "14            Puzzle               0.02      0.99\n",
      "15          Strategy               0.02      1.00\n",
      "16             Party               0.00      1.00\n",
      "17         Education               0.00      1.00\n",
      "18        Board Game               0.00      1.00\n",
      "19      Visual Novel               0.00      1.00\n"
     ]
    }
   ],
   "source": [
    "# Unido os dois Series em um único DataFrame\n",
    "df_analise_genero = pd.concat([df_genero_sucesso, df_acerto_por_genero], axis=1)\n",
    "\n",
    "# Renomeando colunas\n",
    "df_analise_genero.columns = ['Chance de Sucesso', 'Acurácia']\n",
    "\n",
    "# Reset do índice para deixar o gênero como coluna comum\n",
    "df_analise_genero = df_analise_genero.reset_index()\n",
    "df_analise_genero = df_analise_genero.rename(columns={'index': 'Gênero'})\n",
    "\n",
    "# Ordenar por Chance de Sucesso, do maior para o menor\n",
    "df_analise_genero = df_analise_genero.sort_values(by='Chance de Sucesso', ascending=False)\n",
    "\n",
    "print(df_analise_genero)"
   ]
  },
  {
   "cell_type": "code",
   "execution_count": null,
   "id": "750f7a38-aef9-49b2-b47e-bfd56c57eafb",
   "metadata": {},
   "outputs": [],
   "source": []
  },
  {
   "cell_type": "markdown",
   "id": "4f8e3155-5288-4144-a67d-fd8d4a5de649",
   "metadata": {},
   "source": [
    "### **Quais consoles apresentaram maior proporção de jogos bem-sucedidos?**\n",
    "\n",
    "Avaliei a proporção de sucesso prevista para os jogos em cada console, com base nas previsões do modelo. Os consoles que apresentaram maior proporção de jogos bem-sucedidos foram o **NES** (47%) e o **Mega Drive (GEN)** com 43%. Já consoles mais recentes como **Xbox 360**, **PlayStation 4** e **PlayStation 3** tiveram proporções mais modestas, entre 13% e 18%. A maioria dos demais consoles obteve proporções de sucesso inferiores a 10%."
   ]
  },
  {
   "cell_type": "code",
   "execution_count": 9,
   "id": "797034e3-94f0-4392-8456-3a3ef11b6950",
   "metadata": {},
   "outputs": [
    {
     "name": "stdout",
     "output_type": "stream",
     "text": [
      "console\n",
      "NES     0.47\n",
      "GEN     0.43\n",
      "X360    0.18\n",
      "PS4     0.16\n",
      "GB      0.15\n",
      "PS3     0.15\n",
      "PS      0.14\n",
      "XOne    0.13\n",
      "PS2     0.10\n",
      "SNES    0.09\n",
      "Wii     0.07\n",
      "N64     0.06\n",
      "DC      0.06\n",
      "GBA     0.05\n",
      "XB      0.05\n",
      "PC      0.05\n",
      "PSP     0.04\n",
      "DS      0.03\n",
      "GC      0.03\n",
      "NS      0.03\n",
      "SAT     0.02\n",
      "PSV     0.02\n",
      "3DS     0.01\n",
      "WiiU    0.00\n",
      "GG      0.00\n",
      "VC      0.00\n",
      "SCD     0.00\n",
      "NG      0.00\n",
      "3DO     0.00\n",
      "Name: Previsao_Sucesso, dtype: float64\n"
     ]
    }
   ],
   "source": [
    "df_console_sucesso = df_completo.groupby('console')['Previsao_Sucesso'].mean().sort_values(ascending=False).round(2)\n",
    "print(df_console_sucesso)"
   ]
  },
  {
   "cell_type": "markdown",
   "id": "b2a38245-c67d-4f83-a5d8-e9199a9c3632",
   "metadata": {},
   "source": [
    "### **Análise de acurácia por Console**\n",
    "\n",
    "Avaliei a acurácia das previsões do modelo para cada console, verificando a proporção de acertos entre as previsões e os valores reais de sucesso. No resultado, a maioria dos consoles obteve acurácia de **100%**, indicando que o modelo acertou todas as previsões para esses grupos. Apenas três consoles — **N64**,"
   ]
  },
  {
   "cell_type": "code",
   "execution_count": 10,
   "id": "aa239f20-75df-4bfe-9682-72f8b727d37c",
   "metadata": {},
   "outputs": [
    {
     "name": "stdout",
     "output_type": "stream",
     "text": [
      "console\n",
      "3DO     1.00\n",
      "PS2     1.00\n",
      "XB      1.00\n",
      "X360    1.00\n",
      "WiiU    1.00\n",
      "Wii     1.00\n",
      "VC      1.00\n",
      "SNES    1.00\n",
      "SCD     1.00\n",
      "SAT     1.00\n",
      "PSV     1.00\n",
      "PSP     1.00\n",
      "PS4     1.00\n",
      "PS3     1.00\n",
      "XOne    1.00\n",
      "3DS     1.00\n",
      "PC      1.00\n",
      "NS      1.00\n",
      "NG      1.00\n",
      "NES     1.00\n",
      "GG      1.00\n",
      "GEN     1.00\n",
      "GBA     1.00\n",
      "GB      1.00\n",
      "DS      1.00\n",
      "DC      1.00\n",
      "N64     0.99\n",
      "GC      0.99\n",
      "PS      0.99\n",
      "dtype: float64\n"
     ]
    },
    {
     "name": "stderr",
     "output_type": "stream",
     "text": [
      "C:\\Users\\fabio\\AppData\\Local\\Temp\\ipykernel_2440\\1603148720.py:5: DeprecationWarning: DataFrameGroupBy.apply operated on the grouping columns. This behavior is deprecated, and in a future version of pandas the grouping columns will be excluded from the operation. Either pass `include_groups=False` to exclude the groupings or explicitly select the grouping columns after groupby to silence this warning.\n",
      "  df_acerto_por_console = df_avaliacao.groupby('console').apply(\n"
     ]
    }
   ],
   "source": [
    "df_avaliacao = df_completo.copy()\n",
    "df_avaliacao['Real_Sucesso'] = y_test\n",
    "\n",
    "# Calculando acurácia por console\n",
    "df_acerto_por_console = df_avaliacao.groupby('console').apply(\n",
    "    lambda df: (df['Previsao_Sucesso'] == df['Real_Sucesso']).mean().round(2)\n",
    ").sort_values(ascending=False)\n",
    "\n",
    "print(df_acerto_por_console)"
   ]
  },
  {
   "cell_type": "markdown",
   "id": "0d8c2675-3534-4b8f-87df-76c24b1dfb7f",
   "metadata": {},
   "source": [
    "### **Análise da Chance de Sucesso e Acurácia por Console**"
   ]
  },
  {
   "cell_type": "code",
   "execution_count": 11,
   "id": "b7724270-5ff5-46b1-9a7a-33bdfaeb089e",
   "metadata": {},
   "outputs": [
    {
     "name": "stdout",
     "output_type": "stream",
     "text": [
      "   console  Chance de Sucesso  Acurácia\n",
      "0      NES               0.47      1.00\n",
      "1      GEN               0.43      1.00\n",
      "2     X360               0.18      1.00\n",
      "3      PS4               0.16      1.00\n",
      "4       GB               0.15      1.00\n",
      "5      PS3               0.15      1.00\n",
      "6       PS               0.14      0.99\n",
      "7     XOne               0.13      1.00\n",
      "8      PS2               0.10      1.00\n",
      "9     SNES               0.09      1.00\n",
      "10     Wii               0.07      1.00\n",
      "11     N64               0.06      0.99\n",
      "12      DC               0.06      1.00\n",
      "15      PC               0.05      1.00\n",
      "14      XB               0.05      1.00\n",
      "13     GBA               0.05      1.00\n",
      "16     PSP               0.04      1.00\n",
      "17      DS               0.03      1.00\n",
      "18      GC               0.03      0.99\n",
      "19      NS               0.03      1.00\n",
      "20     SAT               0.02      1.00\n",
      "21     PSV               0.02      1.00\n",
      "22     3DS               0.01      1.00\n",
      "23    WiiU               0.00      1.00\n",
      "24      GG               0.00      1.00\n",
      "25      VC               0.00      1.00\n",
      "26     SCD               0.00      1.00\n",
      "27      NG               0.00      1.00\n",
      "28     3DO               0.00      1.00\n"
     ]
    }
   ],
   "source": [
    "# Unido os dois Series em um único DataFrame\n",
    "df_analise_console = pd.concat([df_console_sucesso, df_acerto_por_console], axis=1)\n",
    "\n",
    "# Renomeando colunas\n",
    "df_analise_console.columns = ['Chance de Sucesso', 'Acurácia']\n",
    "\n",
    "# Reset do índice para deixar o gênero como coluna comum\n",
    "df_analise_console = df_analise_console.reset_index()\n",
    "df_analise_console = df_analise_console.rename(columns={'index': 'Gênero'})\n",
    "\n",
    "# Ordenar por Chance de Sucesso, do maior para o menor\n",
    "df_analise_console = df_analise_console.sort_values(by='Chance de Sucesso', ascending=False)\n",
    "\n",
    "print(df_analise_console)"
   ]
  },
  {
   "cell_type": "markdown",
   "id": "f6fd4d57-ee12-4c19-a216-ac10c44080fa",
   "metadata": {},
   "source": []
  },
  {
   "cell_type": "markdown",
   "id": "82eab9c0-7ae4-4669-b0d2-354b57ad6d88",
   "metadata": {},
   "source": [
    "### **Quais fabricantes apresentaram maior proporção de jogos bem-sucedidos?**\n",
    "Calculei a média das previsões de sucesso para os jogos de cada fabricante, revelando quais apresentaram maior proporção de títulos bem-sucedidos segundo o modelo. A **Microsoft** lidera com 13% dos jogos previstos como sucesso, seguida por **Sony** com 10%. **Sega**, **Nintendo** e o grupo classificado como **Outros** aparecem com proporções menores, enquanto a **SNK** não teve jogos classificados como bem-sucedidos."
   ]
  },
  {
   "cell_type": "code",
   "execution_count": 12,
   "id": "55bd4954-110c-4d4f-ae67-131bc21c080b",
   "metadata": {},
   "outputs": [
    {
     "name": "stdout",
     "output_type": "stream",
     "text": [
      "console_fabricator\n",
      "Microsoft    0.13\n",
      "Sony         0.10\n",
      "Sega         0.07\n",
      "Nintendo     0.05\n",
      "Outros       0.05\n",
      "SNK          0.00\n",
      "Name: Previsao_Sucesso, dtype: float64\n"
     ]
    }
   ],
   "source": [
    "df_fabricante_sucesso = df_completo.groupby('console_fabricator')['Previsao_Sucesso'].mean().sort_values(ascending=False).round(2)\n",
    "print(df_fabricante_sucesso)"
   ]
  },
  {
   "cell_type": "markdown",
   "id": "475e3c2a-33fa-4e77-9617-26c7ffe1ed5b",
   "metadata": {},
   "source": [
    "### **Análise de acurácia por Fabricante**\n",
    "Avaliei a acurácia das previsões do modelo agrupando os resultados por fabricante de console. Todos os fabricantes apresentaram **100% de acerto** nas amostras testadas, o que indica que o modelo conseguiu prever corretamente o sucesso ou fracasso dos jogos de forma consistente em todos os grupos.\n"
   ]
  },
  {
   "cell_type": "code",
   "execution_count": 13,
   "id": "96804050-192d-4d9c-b978-c025a5e66a49",
   "metadata": {},
   "outputs": [
    {
     "name": "stdout",
     "output_type": "stream",
     "text": [
      "console_fabricator\n",
      "Microsoft    1.0\n",
      "Nintendo     1.0\n",
      "Outros       1.0\n",
      "SNK          1.0\n",
      "Sega         1.0\n",
      "Sony         1.0\n",
      "dtype: float64\n"
     ]
    },
    {
     "name": "stderr",
     "output_type": "stream",
     "text": [
      "C:\\Users\\fabio\\AppData\\Local\\Temp\\ipykernel_2440\\4199258806.py:5: DeprecationWarning: DataFrameGroupBy.apply operated on the grouping columns. This behavior is deprecated, and in a future version of pandas the grouping columns will be excluded from the operation. Either pass `include_groups=False` to exclude the groupings or explicitly select the grouping columns after groupby to silence this warning.\n",
      "  df_acerto_por_fabricante_console = df_avaliacao.groupby('console_fabricator').apply(\n"
     ]
    }
   ],
   "source": [
    "df_avaliacao = df_completo.copy()\n",
    "df_avaliacao['Real_Sucesso'] = y_test\n",
    "\n",
    "# Calculando acurácia por fabricante de console\n",
    "df_acerto_por_fabricante_console = df_avaliacao.groupby('console_fabricator').apply(\n",
    "    lambda df: (df['Previsao_Sucesso'] == df['Real_Sucesso']).mean().round(2)\n",
    ").sort_values(ascending=False)\n",
    "\n",
    "print(df_acerto_por_fabricante_console)"
   ]
  },
  {
   "cell_type": "markdown",
   "id": "6e97b594-d1a3-4342-b55d-9de454009095",
   "metadata": {},
   "source": [
    "### **Análise da Chance de Sucesso e Acurácia por Fabricante de Console**"
   ]
  },
  {
   "cell_type": "code",
   "execution_count": 14,
   "id": "1ec91b62-427e-4988-a2e5-310b3588b89e",
   "metadata": {},
   "outputs": [
    {
     "name": "stdout",
     "output_type": "stream",
     "text": [
      "   console  Chance de Sucesso  Acurácia\n",
      "0      NES               0.47      1.00\n",
      "1      GEN               0.43      1.00\n",
      "2     X360               0.18      1.00\n",
      "3      PS4               0.16      1.00\n",
      "4       GB               0.15      1.00\n",
      "5      PS3               0.15      1.00\n",
      "6       PS               0.14      0.99\n",
      "7     XOne               0.13      1.00\n",
      "8      PS2               0.10      1.00\n",
      "9     SNES               0.09      1.00\n",
      "10     Wii               0.07      1.00\n",
      "11     N64               0.06      0.99\n",
      "12      DC               0.06      1.00\n",
      "15      PC               0.05      1.00\n",
      "14      XB               0.05      1.00\n",
      "13     GBA               0.05      1.00\n",
      "16     PSP               0.04      1.00\n",
      "17      DS               0.03      1.00\n",
      "18      GC               0.03      0.99\n",
      "19      NS               0.03      1.00\n",
      "20     SAT               0.02      1.00\n",
      "21     PSV               0.02      1.00\n",
      "22     3DS               0.01      1.00\n",
      "23    WiiU               0.00      1.00\n",
      "24      GG               0.00      1.00\n",
      "25      VC               0.00      1.00\n",
      "26     SCD               0.00      1.00\n",
      "27      NG               0.00      1.00\n",
      "28     3DO               0.00      1.00\n"
     ]
    }
   ],
   "source": [
    "# Unido os dois Series em um único DataFrame\n",
    "df_analise_fabricante_console = pd.concat([df_console_sucesso, df_acerto_por_console], axis=1)\n",
    "\n",
    "# Renomeando colunas\n",
    "df_analise_fabricante_console.columns = ['Chance de Sucesso', 'Acurácia']\n",
    "\n",
    "# Reset do índice para deixar o gênero como coluna comum\n",
    "df_analise_fabricante_console = df_analise_fabricante_console.reset_index()\n",
    "df_analise_fabricante_console = df_analise_fabricante_console.rename(columns={'index': 'Gênero'})\n",
    "\n",
    "# Ordenar por Chance de Sucesso, do maior para o menor\n",
    "df_analise_fabricante_console = df_analise_fabricante_console.sort_values(by='Chance de Sucesso', ascending=False)\n",
    "\n",
    "print(df_analise_fabricante_console)"
   ]
  },
  {
   "cell_type": "code",
   "execution_count": null,
   "id": "efeeb368-dd5a-4f59-9bb6-b6263683457d",
   "metadata": {},
   "outputs": [],
   "source": []
  },
  {
   "cell_type": "markdown",
   "id": "fcf8ff5e-0ec2-4b7a-80a8-d85063fa9af8",
   "metadata": {},
   "source": [
    "### **Qual região apresenta maior proporção de jogos bem-sucedidos?**\n",
    "Os jogos classificados como sucesso pelo modelo apresentam maior desempenho comercial na América do Norte e Europa, enquanto as vendas no Japão e em outras regiões são significativamente menores.\n"
   ]
  },
  {
   "cell_type": "code",
   "execution_count": 15,
   "id": "11023dcd-6f7f-46c6-98af-8ed51719c546",
   "metadata": {},
   "outputs": [
    {
     "name": "stdout",
     "output_type": "stream",
     "text": [
      "Média de vendas em milhõs: \n",
      "na_sales       1.10\n",
      "pal_sales      0.86\n",
      "jp_sales       0.10\n",
      "other_sales    0.28\n",
      "dtype: float64\n"
     ]
    }
   ],
   "source": [
    "df_analise_regiao_sucesso = df_completo[df_completo['Previsao_Sucesso'] == 1]\n",
    "\n",
    "df_analise_regiao_sucesso = df_analise_regiao_sucesso[['na_sales', 'pal_sales', 'jp_sales', 'other_sales']].mean().round(2)\n",
    "print(\"Média de vendas em milhõs: \")\n",
    "print(df_analise_regiao_sucesso)"
   ]
  },
  {
   "cell_type": "markdown",
   "id": "f2d40ec7-473d-40bd-bf2a-52f89ad41107",
   "metadata": {},
   "source": [
    "Apesar do Japão ser uma potência em desenvolvimento e consumo de jogos, os títulos bem-sucedidos segundo nosso modelo apresentaram, em média, vendas significativamente menores nessa região. Isso pode ser explicado pelo foco local de muitos desenvolvedores japoneses, que criam jogos voltados majoritariamente para o público interno, sem priorizar a tradução ou a distribuição internacional. Com isso, esses jogos acabam tendo menor expressão nos dados globais e, por consequência, menor impacto na métrica de sucesso usada pelo modelo."
   ]
  },
  {
   "cell_type": "code",
   "execution_count": null,
   "id": "09f1baa2-c153-4894-8d92-4bf00db544e8",
   "metadata": {},
   "outputs": [],
   "source": []
  },
  {
   "cell_type": "markdown",
   "id": "5efd7239-cd76-4d0d-81aa-2e3baeb7d420",
   "metadata": {},
   "source": [
    "### **Conclusão geral das análises de acurácia**\n",
    "\n",
    "Avaliando os resultados por console e por fabricante, observei que a acurácia do modelo foi extremamente alta, alcançando 100% na maioria das categorias. Isso indica que o modelo conseguiu capturar com precisão os padrões que definem o sucesso de um jogo, com desempenho consistente entre diferentes plataformas e fabricantes.\n",
    "\n",
    "Apesar da alta acurácia, é importante destacar que esse valor pode estar relacionado ao balanceamento ou à simplicidade da variável alvo. Ainda assim, os resultados obtidos reforçam a confiabilidade do modelo nas previsões realizadas.\n",
    "\n",
    "Essas análises contribuem para validar a abordagem adotada e fortalecem a confiança nos insights extraídos a partir das previsões.\n",
    "\n"
   ]
  },
  {
   "cell_type": "code",
   "execution_count": null,
   "id": "1c9afda9-e2fa-4265-ba5e-b21498da9db5",
   "metadata": {},
   "outputs": [],
   "source": []
  },
  {
   "cell_type": "code",
   "execution_count": null,
   "id": "57595c45-85bc-4a0e-886e-c93c717415e9",
   "metadata": {},
   "outputs": [],
   "source": []
  },
  {
   "cell_type": "markdown",
   "id": "f6c1814c-2dd8-434f-942d-f397e31d8cc6",
   "metadata": {},
   "source": [
    "### **Exportação dos Resultados das Análises**"
   ]
  },
  {
   "cell_type": "code",
   "execution_count": 16,
   "id": "e07a3bd4-2dc6-45a3-b470-ff9a47673713",
   "metadata": {},
   "outputs": [],
   "source": [
    "df_analise_genero.to_csv('analise_genero_sucesso_acuracia.csv', index=True)\n",
    "df_analise_console.to_csv('analise_console_sucesso_acuracia.csv', index=True)\n",
    "df_analise_fabricante_console.to_csv('analise_fabricante_previsao_acuracia.csv', index=True)\n",
    "df_analise_regiao_sucesso.to_csv('analise_regiao_sucesso.csv', index=True)"
   ]
  },
  {
   "cell_type": "code",
   "execution_count": null,
   "id": "0552fc12-8a28-4996-b0e0-836aa71b49bc",
   "metadata": {},
   "outputs": [],
   "source": []
  }
 ],
 "metadata": {
  "kernelspec": {
   "display_name": "Python 3 (ipykernel)",
   "language": "python",
   "name": "python3"
  },
  "language_info": {
   "codemirror_mode": {
    "name": "ipython",
    "version": 3
   },
   "file_extension": ".py",
   "mimetype": "text/x-python",
   "name": "python",
   "nbconvert_exporter": "python",
   "pygments_lexer": "ipython3",
   "version": "3.12.7"
  }
 },
 "nbformat": 4,
 "nbformat_minor": 5
}
